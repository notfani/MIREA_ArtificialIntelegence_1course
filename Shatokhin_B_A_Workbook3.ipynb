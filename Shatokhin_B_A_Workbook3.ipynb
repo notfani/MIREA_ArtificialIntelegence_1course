{
  "nbformat": 4,
  "nbformat_minor": 0,
  "metadata": {
    "colab": {
      "provenance": []
    },
    "kernelspec": {
      "name": "python3",
      "display_name": "Python 3"
    },
    "language_info": {
      "name": "python"
    }
  },
  "cells": [
    {
      "cell_type": "markdown",
      "source": [
        "Задание 1.2.1"
      ],
      "metadata": {
        "id": "7haDG0Kx9Z66"
      }
    },
    {
      "cell_type": "code",
      "execution_count": null,
      "metadata": {
        "id": "ULoRgeiS9QVf"
      },
      "outputs": [],
      "source": [
        "def sum_range(start, end):\n",
        "  if start > end:\n",
        "    end, start = start, end\n",
        "  return sum(range(start, end+1))\n",
        "\n",
        "print(sum_range(2,12))\n",
        "print(sum_range(-4,4))\n",
        "print(sum_range(3,2))"
      ]
    },
    {
      "cell_type": "markdown",
      "source": [
        "Задание 1.2.2"
      ],
      "metadata": {
        "id": "_c_X3q57-2dp"
      }
    },
    {
      "cell_type": "code",
      "source": [
        "def fact(num):\n",
        "  if num == 0:\n",
        "    return 1\n",
        "  else:\n",
        "    return num*fact(num-1)\n",
        "\n",
        "print(fact(5))"
      ],
      "metadata": {
        "id": "9fkFcyf3-7ax"
      },
      "execution_count": null,
      "outputs": []
    },
    {
      "cell_type": "markdown",
      "source": [
        "Задание 1.2.3"
      ],
      "metadata": {
        "id": "tCbnnhXd_KUj"
      }
    },
    {
      "cell_type": "code",
      "source": [
        "import numpy as np\n",
        "def euclidean_distance(v1, v2):\n",
        "  return sum((x-y)**2 for x, y in zip(v1,v2))**0.5\n",
        "\n",
        "x = np.array([0,0,0])\n",
        "y = np.array([3,3,3])\n",
        "print(euclidean_distance(x,y))"
      ],
      "metadata": {
        "id": "ZpGeH_PTBa8V"
      },
      "execution_count": null,
      "outputs": []
    },
    {
      "cell_type": "markdown",
      "source": [
        "Задание 1.2.4"
      ],
      "metadata": {
        "id": "RD0OpXjBCXn4"
      }
    },
    {
      "cell_type": "code",
      "source": [
        "def sqr_euclidean_distance(v1, v2):\n",
        "  return sum((x-y)**2 for x,y in zip(v1,v2))\n",
        "\n",
        "def weight_euclidean_distance(v1,v2,w):\n",
        "  return sum((x-y)**2*s for x,y,s in zip(v1,v2,w))**0.5\n",
        "\n",
        "def manhattan_distance(v1,v2):\n",
        "  return sum(abs(x-y) for x,y in zip(v1,v2))\n",
        "\n",
        "def chebushev_distance(v1,v2):\n",
        "  return max(abs(x-y) for x,y in zip(v1,v2))\n",
        "\n",
        "x = np.array([0,0,0])\n",
        "y = np.array([3,3,3])\n",
        "w = np.array([0,0,1])\n",
        "\n",
        "print(sqr_euclidean_distance(x,y))\n",
        "print(weight_euclidean_distance(x,y,w))\n",
        "print(manhattan_distance(x,y))\n",
        "print(chebushev_distance(x,y))"
      ],
      "metadata": {
        "id": "B2U2KhuiCadC"
      },
      "execution_count": null,
      "outputs": []
    },
    {
      "cell_type": "markdown",
      "source": [
        "Задание 1.2.5"
      ],
      "metadata": {
        "id": "f7fvDXhHEeUQ"
      }
    },
    {
      "cell_type": "code",
      "source": [
        "import matplotlib.pyplot as plt\n",
        "from mpl_toolkits.mplot3d import Axes3D\n",
        "\n",
        "fig = plt.figure()\n",
        "ax = fig.add_subplot(111, projection = \"3d\")\n",
        "\n",
        "ax.scatter(0,0,0)\n",
        "ax.scatter(3,3,3)\n",
        "plt.show()"
      ],
      "metadata": {
        "id": "luyk8CKnEl8n"
      },
      "execution_count": null,
      "outputs": []
    },
    {
      "cell_type": "markdown",
      "source": [
        "Задание 1.2.6"
      ],
      "metadata": {
        "id": "7kdaN8J7FOeS"
      }
    },
    {
      "cell_type": "code",
      "source": [
        "import numpy as np\n",
        "\n",
        "#Расстояние Евклида\n",
        "print(np.linalg.norm(x-y))\n",
        "#Квадрат Евклидова расстояния\n",
        "print(np.linalg.norm(x-y)**2)\n",
        "#Расстояние Чебышева\n",
        "print(np.linalg.norm(p1-p2, ord=np.inf))\n",
        "#Расстояние Хемминга\n",
        "print(np.linalg.norm(p1-p2, ord=1))"
      ],
      "metadata": {
        "id": "k2YC8TL7FYAG"
      },
      "execution_count": null,
      "outputs": []
    },
    {
      "cell_type": "markdown",
      "source": [
        "Задание 1.3.1"
      ],
      "metadata": {
        "id": "g6fCvyZEGsKo"
      }
    },
    {
      "cell_type": "code",
      "source": [
        "import numpy as np\n",
        "import matplotlib.pyplot as plt\n",
        "from mpl_toolkits.mplot3d import Axes3D\n",
        "\n",
        "\n",
        "points = np.array([[1, 2, 3],\n",
        "                   [4, 5, 6],\n",
        "                   [7, 8, 9],\n",
        "                   [10, 11, 12]])\n",
        "\n",
        "\n",
        "distances_euclidean = np.linalg.norm(points[1:] - points[:-1], axis=1)\n",
        "\n",
        "distance_euclidean_pow = np.linalg.norm((points[1:] - points[:-1])**2, axis=1)\n",
        "\n",
        "distances_chebyshev = np.max(np.abs(points[1:] - points[:-1]), axis=1)\n",
        "\n",
        "distances_manhattan = np.sum(np.abs(points[1:] - points[:-1]), axis=1)\n",
        "\n",
        "fig = plt.figure()\n",
        "ax = fig.add_subplot(111, projection='3d')\n",
        "\n",
        "for i in range(len(points)):\n",
        "    ax.scatter(points[i][0], points[i][1], points[i][2], color='b', s=100)\n",
        "\n",
        "ax.set_xlabel('X')\n",
        "ax.set_ylabel('Y')\n",
        "ax.set_zlabel('Z')\n",
        "\n",
        "plt.show()\n",
        "\n",
        "print(\"Расстояния по евклидовой метрике:\", distances_euclidean)\n",
        "print(\"Расстояние квадратное по евклидовой метрике\", distance_euclidean_pow)\n",
        "print(\"Расстояния по метрике Чебышева:\", distances_chebyshev)\n",
        "print(\"Расстояния по манхэттенской метрике:\", distances_manhattan)"
      ],
      "metadata": {
        "id": "pLv6fVznGxcU"
      },
      "execution_count": null,
      "outputs": []
    },
    {
      "cell_type": "markdown",
      "source": [
        "Задание 1.3.2"
      ],
      "metadata": {
        "id": "qwzMlfVwf9Jb"
      }
    },
    {
      "cell_type": "code",
      "source": [
        "import numpy as np\n",
        "\n",
        "z = np.zeros((5,5))\n",
        "z += np.arange(5)\n",
        "print(z)"
      ],
      "metadata": {
        "id": "1PudhU4PgHVl"
      },
      "execution_count": null,
      "outputs": []
    },
    {
      "cell_type": "markdown",
      "source": [
        "Задание 2.2.1"
      ],
      "metadata": {
        "id": "8gsicE8Jge7G"
      }
    },
    {
      "cell_type": "code",
      "source": [
        "from sklearn.neighbors import KNeighboursClassifier\n",
        "import numpy as np\n",
        "\n",
        "x = np.array([[-1,-1], [-2,-1], [-3,-2], [1,1], [2,1], [3,2]])\n",
        "target = [0,0,0,1,1]\n",
        "\n",
        "k = 3\n",
        "model = KNeighboursClassifier(n_neighbors = k)\n",
        "model.fit(x, target)\n",
        "print(model)\n",
        "\n",
        "print(\"(-2,-2) is class\")\n",
        "print(model.predict([[-2,-2]]))\n",
        "print(\"(1,3) is class\")\n",
        "print(model.predict([[1,3]]))"
      ],
      "metadata": {
        "id": "Pikdi9fXj8OW"
      },
      "execution_count": null,
      "outputs": []
    },
    {
      "cell_type": "markdown",
      "source": [
        "Задание 2.2.2"
      ],
      "metadata": {
        "id": "j18Cdp1Nlqp1"
      }
    },
    {
      "cell_type": "code",
      "source": [
        "from sklearn.neighbors import KNeighborsClassifier\n",
        "import seaborn as sns\n",
        "\n",
        "iris = sns.load_dataset(\"iris\")\n",
        "iris"
      ],
      "metadata": {
        "id": "rc84qM1JmDSY"
      },
      "execution_count": null,
      "outputs": []
    },
    {
      "cell_type": "markdown",
      "source": [
        "Задание 2.2.3"
      ],
      "metadata": {
        "id": "LWTyBcL2mZUk"
      }
    },
    {
      "cell_type": "code",
      "source": [
        "import matplotlib.pyplot as plt\n",
        "from sklearn.neighbors import KNeighborsClassifier\n",
        "import seaborn as sns\n",
        "\n",
        "iris = sns.load_dataset(\"iris\")\n",
        "iris\n",
        "\n",
        "plt.figure(figsize=(16,7))\n",
        "plt.subplot(121)\n",
        "sns.scatterplot(\n",
        "    data=iris,\n",
        "    x='petal_width',y='petal_length',\n",
        "    hue='species',\n",
        "    s=70)\n",
        "plt.xlabel('Длина лепестка, cм')\n",
        "plt.ylabel('Ширина лепестка, cм')\n",
        "plt.legend()\n",
        "plt.grid()\n",
        "\n",
        "plt.subplot(122)\n",
        "sns.scatterplot(\n",
        "    data=iris,\n",
        "    x='sepal_width',y='sepal_length',\n",
        "    hue='species',\n",
        "    s=70)\n",
        "plt.xlabel('Длина чашелистика, cм')\n",
        "plt.ylabel('Ширина чашелистика, cм')\n",
        "plt.legend()\n",
        "plt.grid()"
      ],
      "metadata": {
        "id": "I_pJRapGmd-B"
      },
      "execution_count": null,
      "outputs": []
    },
    {
      "cell_type": "markdown",
      "source": [
        "Задание 2.2.4"
      ],
      "metadata": {
        "id": "uhUPKLIrrbdS"
      }
    },
    {
      "cell_type": "code",
      "source": [
        "from sklearn.model_selection import train_test_split\n",
        "import matplotlib.pyplot as plt\n",
        "import numpy as np\n",
        "\n",
        "\n",
        "X_train, X_test, y_train, y_test = train_test_split(\n",
        "    iris.iloc[:,:-1],\n",
        "    iris.iloc[:,-1],\n",
        "    test_size = 0.20\n",
        ")\n",
        "X_train.shape, X_test.shape, y_train.shape, y_test.shape\n",
        "X_train.head()\n",
        "y_train.head()\n",
        "model = KNeighborsClassifier(n_neighbors=3)\n",
        "model.fit(X_train, y_train)\n",
        "\n",
        "y_pred = model.predict(X_test)\n",
        "y_pred\n",
        "\n",
        "plt.figure(figsize=(10,10))\n",
        "sns.scatterplot(x='petal_width',y='petal_length',data=iris,hue ='species',s=70)\n",
        "plt.xlabel('Длина лепестка, cм')\n",
        "plt.ylabel('Ширина лепестка, cм')\n",
        "plt.legend(loc=2)\n",
        "plt.grid()\n",
        "for i in range(len(y_test)):\n",
        "  if np.array(y_test)[i] != y_pred[i]:\n",
        "    plt.scatter(X_test.iloc[i,3],X_test.iloc[i,2], color='red',s=150)\n",
        "\n",
        "from sklearn.metrics import accuracy_score\n",
        "print(f'accuracy: {accuracy_score(y_test, y_pred):.3}')"
      ],
      "metadata": {
        "id": "SpTvJicpDsdE"
      },
      "execution_count": null,
      "outputs": []
    },
    {
      "cell_type": "markdown",
      "source": [
        "Задание 2.3.1"
      ],
      "metadata": {
        "id": "qzp0jP9pXDpA"
      }
    },
    {
      "cell_type": "code",
      "source": [
        "from sklearn.model_selection import train_test_split\n",
        "import matplotlib.pyplot as plt\n",
        "import numpy as np\n",
        "\n",
        "X_train, X_test, y_train, y_test = train_test_split(\n",
        "    iris.iloc[:,:-1],\n",
        "    iris.iloc[:,-1],\n",
        "    test_size = 0.15)\n",
        "\n",
        "X_train.shape, X_test.shape, y_train.shape, y_test.shape\n",
        "X_train.head()\n",
        "y_train.head()\n",
        "model = KNeighborsClassifier(n_neighbors=5)\n",
        "model.fit(X_train, y_train)\n",
        "\n",
        "y_pred = model.predict(X_test)\n",
        "y_pred\n",
        "\n",
        "plt.figure(figsize=(10,10))\n",
        "sns.scatterplot(x='petal_width',y='petal_length',data=iris,hue ='species',s=50)\n",
        "plt.xlabel('Мощность двигателя, N/m')\n",
        "plt.ylabel('Расход топлива, L/km')\n",
        "plt.legend(loc=2)\n",
        "plt.grid()\n",
        "for i in range(len(y_test)):\n",
        "  if np.array(y_test)[i] != y_pred[i]:\n",
        "    plt.scatter(X_test.iloc[i,3],X_test.iloc[i,2], color='red',s=75)\n",
        "\n",
        "from sklearn.metrics import accuracy_score\n",
        "print(f'accuracy: {accuracy_score(y_test, y_pred):.3}')"
      ],
      "metadata": {
        "colab": {
          "base_uri": "https://localhost:8080/",
          "height": 868
        },
        "id": "Ceiw9DvyXMW6",
        "outputId": "277e69de-2427-4a16-e43b-1bdc190a80a2"
      },
      "execution_count": null,
      "outputs": [
        {
          "output_type": "stream",
          "name": "stdout",
          "text": [
            "accuracy: 0.957\n"
          ]
        },
        {
          "output_type": "display_data",
          "data": {
            "text/plain": [
              "<Figure size 1000x1000 with 1 Axes>"
            ],
            "image/png": "[encoded data removed]"
          },
          "metadata": {}
        }
      ]
    },
    {
      "cell_type": "markdown",
      "source": [
        "Здание 3.2.1"
      ],
      "metadata": {
        "id": "l9rbj7PwY5bH"
      }
    },
    {
      "cell_type": "code",
      "source": [
        "import pandas as pd\n",
        "dataframe = pd.DataFrame({'Оценка':['низкая','средняя','средняя','высокая']})\n",
        "scale_mapper = {'низкая':1,'средняя':2,'высокая':3}\n",
        "dataframe['Оценка'].replace(scale_mapper)"
      ],
      "metadata": {
        "id": "wX-Hyea3Y9KQ"
      },
      "execution_count": null,
      "outputs": []
    },
    {
      "cell_type": "markdown",
      "source": [
        "Задание 3.2.2"
      ],
      "metadata": {
        "id": "HifQFt5nZCMb"
      }
    },
    {
      "cell_type": "code",
      "source": [
        "from sklearn.feature_extraction import DictVectorizer\n",
        "data_dict = [{\"красный\": 2, \"синий\": 4},\n",
        "             {\"красный\": 4, \"синий\": 3},\n",
        "             {\"красный\": 1, \"желтый\": 2},\n",
        "             {\"красный\": 2, \"желтый\": 2}]\n",
        "dictvectorizer = DictVectorizer(sparse=False)\n",
        "features = dictvectorizer.fit_transform(data_dict)\n",
        "features"
      ],
      "metadata": {
        "id": "JcEBkcBaZGoZ"
      },
      "execution_count": null,
      "outputs": []
    },
    {
      "cell_type": "markdown",
      "source": [
        "Задание 3.3.2"
      ],
      "metadata": {
        "id": "GP2yC_4uZJfP"
      }
    },
    {
      "cell_type": "code",
      "source": [
        "from sklearn.feature_extraction import DictVectorizer\n",
        "data_dict = [{\"карий\": 1, \"синий\": 8},\n",
        "             {\"зеленый\": 2, \"синий\": 4},\n",
        "             {\"белый\": 3, \"желтый\": 2},\n",
        "             {\"зеленый\": 2, \"карий\": 5}]\n",
        "dictvectorizer = DictVectorizer(sparse=False)\n",
        "features = dictvectorizer.fit_transform(data_dict)\n",
        "features"
      ],
      "metadata": {
        "id": "9BTAnoCAZSCA"
      },
      "execution_count": null,
      "outputs": []
    }
  ]
}