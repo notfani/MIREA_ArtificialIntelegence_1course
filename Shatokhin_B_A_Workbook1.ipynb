{
  "nbformat": 4,
  "nbformat_minor": 0,
  "metadata": {
    "colab": {
      "provenance": []
    },
    "kernelspec": {
      "name": "python3",
      "display_name": "Python 3"
    },
    "language_info": {
      "name": "python"
    }
  },
  "cells": [
    {
      "cell_type": "markdown",
      "source": [
        "Задание 1.2"
      ],
      "metadata": {
        "id": "-PLJ4FbYFQN6"
      }
    },
    {
      "cell_type": "code",
      "execution_count": null,
      "metadata": {
        "id": "L5YG530OERd3"
      },
      "outputs": [],
      "source": [
        "x = 3+5.2*7\n",
        "y = None\n",
        "z = \"a\", 5, 12.345, (2,\"b\")\n",
        "df = [[\"Антонова Антонина\",34,\"ж\"], [\"Борис Борисов\", 26,\"м\"]]\n",
        "A = {1, \"title\", 2, \"content\"}\n",
        "print(x, \"|\", type(x), \"\\n\", y, \"|\", type(y), \"\\n\", z, \"|\", type(z), \"\\n\", df, \"|\", type(df), \"\\n\", A, \"|\", type(A))\n"
      ]
    },
    {
      "cell_type": "markdown",
      "source": [
        "Задание 1.3"
      ],
      "metadata": {
        "id": "DcN9GUnJHcgn"
      }
    },
    {
      "cell_type": "code",
      "source": [
        "x = 5 >= 2\n",
        "A = {1,3,7,8}\n",
        "B = {2,4,5,10,\"apple\"}\n",
        "C = A & B\n",
        "df = \"Антонова Антонина\", 34, \"ж\"\n",
        "z = \"type\"\n",
        "D = [1, \"title\", 2, \"content\"]\n",
        "print(x, \"|\", type(x), \"\\n\", A, \"|\", type(A), \"\\n\", B, \"|\", type(B), \"\\n\", B, \"|\", type(B), \"\\n\", C, \"|\", type(C), \"\\n\", df, \"|\", type(df), \"\\n\", z, \"|\", type(z), \"\\n\", D, \"|\", type(D), \"\\n\")"
      ],
      "metadata": {
        "id": "f7MMx_sdFKL7"
      },
      "execution_count": null,
      "outputs": []
    },
    {
      "cell_type": "markdown",
      "source": [
        "Задание 2.2"
      ],
      "metadata": {
        "id": "T4ZCpP78NJtp"
      }
    },
    {
      "cell_type": "code",
      "source": [
        "x = 125\n",
        "if x < 0:\n",
        "  print(\"x отрицательный\")\n",
        "elif x == 0:\n",
        "  print(\"x равен нулю\")\n",
        "else:\n",
        "  print(\"x положительный\")"
      ],
      "metadata": {
        "id": "aZvovK6VFKhJ"
      },
      "execution_count": null,
      "outputs": []
    },
    {
      "cell_type": "markdown",
      "source": [
        "Задача 2.3"
      ],
      "metadata": {
        "id": "hUqMcp7PPu1d"
      }
    },
    {
      "cell_type": "code",
      "source": [
        "x = int(input())\n",
        "if -5 <= x <= 5:\n",
        "  print(\"[-5;5]\")\n",
        "if x < -5:\n",
        "  print(\"(-бесконечность; -5)\")\n",
        "if x > 5:\n",
        "  print(\"(5; +бесконечность)\")"
      ],
      "metadata": {
        "id": "oim6Z3FFP3SO"
      },
      "execution_count": null,
      "outputs": []
    },
    {
      "cell_type": "markdown",
      "source": [
        "\n",
        "Задание 3.2.1\n"
      ],
      "metadata": {
        "id": "81B6vyDVRaZL"
      }
    },
    {
      "cell_type": "code",
      "source": [
        "x = 1\n",
        "while x <= 10:\n",
        "  print(x)\n",
        "  x += 3"
      ],
      "metadata": {
        "id": "zw813hYbRZ_l"
      },
      "execution_count": null,
      "outputs": []
    },
    {
      "cell_type": "markdown",
      "source": [
        "Задание 3.2.2"
      ],
      "metadata": {
        "id": "KmrLURHmRyE6"
      }
    },
    {
      "cell_type": "code",
      "source": [
        "models = [\"KNN\", \"decision tree\", \"linear model\"]\n",
        "for model in models:\n",
        "  print(model)"
      ],
      "metadata": {
        "id": "Fy5Old-TSC07"
      },
      "execution_count": null,
      "outputs": []
    },
    {
      "cell_type": "markdown",
      "source": [
        "Задание 3.2.3"
      ],
      "metadata": {
        "id": "rMRG5r_SSwb8"
      }
    },
    {
      "cell_type": "code",
      "source": [
        "list_int = range(1, 100, 7)\n",
        "print(list(list_int))"
      ],
      "metadata": {
        "id": "lC5QAyyVTW7U"
      },
      "execution_count": null,
      "outputs": []
    },
    {
      "cell_type": "markdown",
      "source": [
        "Задание 3.2.4"
      ],
      "metadata": {
        "id": "DMx9VkA0UM5R"
      }
    },
    {
      "cell_type": "code",
      "source": [
        "for i in range(1, 106, 25):\n",
        "  print(i)"
      ],
      "metadata": {
        "id": "GBigWs9SUSTe"
      },
      "execution_count": null,
      "outputs": []
    },
    {
      "cell_type": "markdown",
      "source": [
        "Задание 3.2.5"
      ],
      "metadata": {
        "id": "-8jkyfIlUhbg"
      }
    },
    {
      "cell_type": "code",
      "source": [
        "a = [1,2,3,4,5,6,7,8,9]\n",
        "b = a[1:7:2]\n",
        "c = a[::-1]\n",
        "print(b)\n",
        "print(c)"
      ],
      "metadata": {
        "id": "aORrUYm5UnbG"
      },
      "execution_count": null,
      "outputs": []
    },
    {
      "cell_type": "markdown",
      "source": [
        "Задание 3.3.1"
      ],
      "metadata": {
        "id": "1TiOydXSU69a"
      }
    },
    {
      "cell_type": "code",
      "source": [
        "x = 10\n",
        "while x >= 0:\n",
        "  print(x)\n",
        "  x -= 3"
      ],
      "metadata": {
        "id": "VAG-yOF9VX_V"
      },
      "execution_count": null,
      "outputs": []
    },
    {
      "cell_type": "markdown",
      "source": [
        "Задание 3.3.2"
      ],
      "metadata": {
        "id": "iFE5kJGsWIA-"
      }
    },
    {
      "cell_type": "code",
      "source": [
        "Human = [\"Владимир Владимирович Путин\", \"м\", \"71\", \"168\", \"77\"]\n",
        "print(\"ИМЯ\", \"ПОЛ\", \"ВОЗРАСТ\", \"РОСТ\", \"ВЕС\")\n",
        "print(Human)"
      ],
      "metadata": {
        "id": "GFOcl3SrWl4T"
      },
      "execution_count": null,
      "outputs": []
    },
    {
      "cell_type": "markdown",
      "source": [
        "Задание 3.3.3"
      ],
      "metadata": {
        "id": "AW863VsdXyS_"
      }
    },
    {
      "cell_type": "code",
      "source": [
        "a = []\n",
        "for i in range(2, 16, 1):\n",
        "  a.append(i)\n"
      ],
      "metadata": {
        "id": "TZwhAHQJY_cM"
      },
      "execution_count": null,
      "outputs": []
    },
    {
      "cell_type": "markdown",
      "source": [
        "Задание 3.3.4"
      ],
      "metadata": {
        "id": "R41VVZThZNaf"
      }
    },
    {
      "cell_type": "code",
      "source": [
        "for i in range(105, 4, -25):\n",
        "  print(i)"
      ],
      "metadata": {
        "id": "5tp0ysdqZQPn"
      },
      "execution_count": null,
      "outputs": []
    },
    {
      "cell_type": "markdown",
      "source": [
        "Задание 3.3.5"
      ],
      "metadata": {
        "id": "YD5GUAT9Zc5o"
      }
    },
    {
      "cell_type": "code",
      "source": [
        "a = [0,1,2,3,4,5,6,7,8,9]\n",
        "b = []\n",
        "for i in range(10):\n",
        "  if i % 2 == 0:\n",
        "    b.append(a[8-i])\n",
        "  elif i % 2 != 0:\n",
        "    b.append(a[i])\n",
        "print(b)\n"
      ],
      "metadata": {
        "id": "VjRykRVUZfYY"
      },
      "execution_count": null,
      "outputs": []
    },
    {
      "cell_type": "markdown",
      "source": [
        "Задание 4.2.1"
      ],
      "metadata": {
        "id": "hXWyJ4nkoLkP"
      }
    },
    {
      "cell_type": "code",
      "source": [
        "import math as m\n",
        "print(m.sin(m.e))"
      ],
      "metadata": {
        "id": "PHRIVCP2oRne"
      },
      "execution_count": null,
      "outputs": []
    },
    {
      "cell_type": "markdown",
      "source": [
        "Задание 4.2.2"
      ],
      "metadata": {
        "id": "iY-7JJfCoedS"
      }
    },
    {
      "cell_type": "code",
      "source": [
        "import numpy as np\n",
        "import matplotlib.pyplot as plt\n",
        "x = np.arange(0.0, 10, 0.1)\n",
        "y = np.abs(np.sin(x*np.exp(np.cos(x))))\n",
        "plt.grid()\n",
        "plt.plot(x, y, c = \"r\")\n",
        "plt.fill_between(x, y)\n",
        "area = np.trapz\n",
        "print(area)"
      ],
      "metadata": {
        "id": "fOqJ1ZVDohub"
      },
      "execution_count": null,
      "outputs": []
    },
    {
      "cell_type": "markdown",
      "source": [
        "Задание 4.2.3"
      ],
      "metadata": {
        "id": "TbcmUSszpSV0"
      }
    },
    {
      "cell_type": "code",
      "source": [
        "from matplotlib import pyplot as plt\n",
        "import numpy as np\n",
        "marks = [\"Неуд\", \"Удовл\", \"Хор\", \"Отл\"]\n",
        "data = [3,7,8,4]\n",
        "fig = plt.figure(figsize = (10,7))\n",
        "plt.pie(data, labels = marks)\n",
        "plt.show()\n",
        "plt.grid()\n",
        "plt.scatter(marks, data)"
      ],
      "metadata": {
        "id": "-cQmWfh1pWhB"
      },
      "execution_count": null,
      "outputs": []
    },
    {
      "cell_type": "markdown",
      "source": [
        "Задание 4.3.1"
      ],
      "metadata": {
        "id": "bJTGomCsrNNo"
      }
    },
    {
      "cell_type": "code",
      "source": [
        "import numpy as np\n",
        "import matplotlib.pyplot as plt\n",
        "\n",
        "array = np.random.random(100)\n",
        "mean = np.mean(array)\n",
        "median = np.median(array)\n",
        "\n",
        "print(\"Среднее значение: \", mean)\n",
        "print(\"Медианное значение: \", median)\n",
        "\n",
        "plt.scatter(range(len(array)), array)\n",
        "plt.title(\"Точечная диаграмма рассеяния\")\n",
        "plt.xlabel(\"Индекс элемента\")\n",
        "plt.ylabel(\"Значение элемента\")\n",
        "plt.show()"
      ],
      "metadata": {
        "id": "xD9ovWyDrmax"
      },
      "execution_count": null,
      "outputs": []
    },
    {
      "cell_type": "markdown",
      "source": [
        "Задание 4.3.2"
      ],
      "metadata": {
        "id": "S9M2kR-jrwpt"
      }
    },
    {
      "cell_type": "code",
      "source": [
        "import numpy as mp\n",
        "from matplotlib import pyplot as plt\n",
        "\n",
        "res = []\n",
        "res_x = [1, 2, 3, 4, 5, 6, 7, 8, 9, 10]\n",
        "for x in range(1, 11, 1):\n",
        "    y = (mp.sqrt(1+mp.exp(mp.sqrt(x))+mp.cos(x**2)))/abs(1-mp.sin(x)**3)+mp.log(abs(2*x))\n",
        "    res.append(y)\n",
        "\n",
        "plt.plot(res_x, res, color=\"g\", marker=\"o\", markersize=5)\n",
        "plt.title(\"Основной график\")\n",
        "plt.xlabel(\"ось x\")\n",
        "plt.ylabel(\"ось y\")\n",
        "plt.show()\n",
        "\n",
        "plt.scatter(res_x[:len(res)//2:], res[:len(res)//2:], color=\"r\")\n",
        "plt.title(\"График для среза\")\n",
        "plt.xlabel(\"значения по x\")\n",
        "plt.ylabel(\"значения по y\")\n",
        "plt.show()"
      ],
      "metadata": {
        "id": "Qgnxh5-Jr0rQ"
      },
      "execution_count": null,
      "outputs": []
    },
    {
      "cell_type": "markdown",
      "source": [
        "Задание 4.3.3"
      ],
      "metadata": {
        "id": "ssHzVia2qIEE"
      }
    },
    {
      "cell_type": "code",
      "source": [
        "import numpy as np\n",
        "from matplotlib import pyplot as plt\n",
        "\n",
        "x = np.arange(1, 10, 1)\n",
        "y = abs(np.cos(x*np.exp(np.cos(x)+np.log(x+1))))\n",
        "plt.grid()\n",
        "plt.plot(x, y, color=\"r\")\n",
        "plt.fill_between(x, y)\n",
        "plt.show()\n",
        "area = np.trapz(y)\n",
        "print(area)"
      ],
      "metadata": {
        "id": "EzPQnz15qMI1"
      },
      "execution_count": null,
      "outputs": []
    },
    {
      "cell_type": "markdown",
      "source": [
        "Задание 4.3.4"
      ],
      "metadata": {
        "id": "jPXK3LEUrtEc"
      }
    },
    {
      "cell_type": "code",
      "source": [
        "from matplotlib import pyplot as plt\n",
        "\n",
        "x = [\"Январь\", \"Февраль\", \"Март\", \"Апрель\", \"Май\", \"Июнь\", \"Июль\", \"Август\", \"Сентябрь\", \"Октябрь\", \"Ноябрь\", \"Декабрь\"]\n",
        "y_apple = [121.26, 122.15, 131.46, 124.61, 136.96, 145.86, 151.83, 141.50, 149.80, 165.30, 177.57, 174.78]\n",
        "y_microsoft = [231.96, 232.38, 235.77, 252.18, 249.68, 270.90, 284.91, 301.88, 281.92, 331.62, 330.59, 336.32]\n",
        "y_google = [91.37, 101.10, 103.13, 117.68, 117.84, 122.09, 134.73, 144.70, 133.68, 148.05, 141.90, 144.85]\n",
        "\n",
        "plt.grid()\n",
        "plt.plot(x, y_apple, color=\"r\", marker=\"o\", markersize=5)\n",
        "plt.title(\"Apple\")\n",
        "plt.xlabel(\"Месяц\")\n",
        "plt.ylabel(\"Стоимость одной акции\")\n",
        "plt.fill_between(x,y_apple, color=\"b\")\n",
        "plt.show()\n",
        "\n",
        "plt.grid()\n",
        "plt.plot(x, y_microsoft, color=\"r\", marker=\"o\", markersize=5)\n",
        "plt.title(\"Microsoft\")\n",
        "plt.xlabel(\"Месяц\")\n",
        "plt.ylabel(\"Стоимость одной акции\")\n",
        "plt.fill_between(x,y_microsoft, color=\"b\")\n",
        "plt.show()\n",
        "\n",
        "plt.grid()\n",
        "plt.plot(x, y_google, color=\"r\", marker=\"o\", markersize=5)\n",
        "plt.title(\"Google\")\n",
        "plt.xlabel(\"Месяц\")\n",
        "plt.ylabel(\"Стоимость одной акции\")\n",
        "plt.fill_between(x,y_google, color=\"b\")\n",
        "plt.show()"
      ],
      "metadata": {
        "id": "DHpIFvzfyg0V"
      },
      "execution_count": null,
      "outputs": []
    },
    {
      "cell_type": "markdown",
      "source": [
        "Задание 4.3.5"
      ],
      "metadata": {
        "id": "vuxITizCNhho"
      }
    },
    {
      "cell_type": "code",
      "source": [
        "import numpy as np\n",
        "\n",
        "print(\"Выберите действие\\n\", \"1. Сложение\\n\", \"2. Вычитание\\n\", \"3. Умножение\\n\", \"4. Деление\\n\", \"5. e^(x+y)\\n\",\n",
        "      \"6. sin(x+y)\\n\", \"7. cos(x+y)\\n\", \"8. x^y\\n\",\n",
        "      \"0. Выход\\n\", \"__________________________________________________\")\n",
        "menu = int(input(\"Выберите действие: \"))\n",
        "x = int(input(\"Введите число a\\n\"))\n",
        "y = int(input(\"Введите число b\\n\"))\n",
        "while True:\n",
        "    if menu == 1:\n",
        "        print(\"Ответ:\", x+y)\n",
        "        break\n",
        "    elif menu == 2:\n",
        "        print(\"Ответ:\", x-y)\n",
        "        break\n",
        "    elif menu == 3:\n",
        "        print(\"Ответ:\", x*y)\n",
        "        break\n",
        "    elif menu == 4:\n",
        "        print(\"Ответ:\", x/y)\n",
        "        break\n",
        "    elif menu == 5:\n",
        "        print(\"Ответ:\", np.exp(x+y))\n",
        "        break\n",
        "    elif menu == 6:\n",
        "        print(\"Ответ:\", np.sin(x+y))\n",
        "        break\n",
        "    elif menu == 7:\n",
        "        print(\"Ответ:\", np.cos(x+y))\n",
        "        break\n",
        "    elif menu == 8:\n",
        "        print(\"Ответ:\", x**y)\n",
        "        break\n",
        "    elif menu == 0:\n",
        "        break\n",
        "    else:\n",
        "        print(\"Неккоректный ввод\\n\")\n",
        "        print(\"Выберите действие\\n\", \"1. Сложение\\n\", \"2. Вычитание\\n\", \"3. Умножение\\n\", \"4. Деление\\n\",\n",
        "              \"5. e^(x+y)\\n\", \"6. sin(x+y)\\n\", \"7. cos(x+y)\\n\", \"8. x^y\\n\", \"0. Выход\\n\",\n",
        "              \"__________________________________________________\")\n"
      ],
      "metadata": {
        "id": "bXtUkrAdNl76",
        "outputId": "63945fec-1375-4fc8-ebe9-cfe860908d93",
        "colab": {
          "base_uri": "https://localhost:8080/",
          "height": 557
        }
      },
      "execution_count": null,
      "outputs": [
        {
          "output_type": "stream",
          "name": "stdout",
          "text": [
            "Выберите действие\n",
            " 1. Сложение\n",
            " 2. Вычитание\n",
            " 3. Умножение\n",
            " 4. Деление\n",
            " 5. e^(x+y)\n",
            " 6. sin(x+y)\n",
            " 7. cos(x+y)\n",
            " 8. x^y\n",
            " 0. Выход\n",
            " __________________________________________________\n"
          ]
        },
        {
          "output_type": "error",
          "ename": "KeyboardInterrupt",
          "evalue": "Interrupted by user",
          "traceback": [
            "\u001b[0;31m---------------------------------------------------------------------------\u001b[0m",
            "\u001b[0;31mKeyboardInterrupt\u001b[0m                         Traceback (most recent call last)",
            "\u001b[0;32m<ipython-input-1-2bb867539ea0>\u001b[0m in \u001b[0;36m<cell line: 6>\u001b[0;34m()\u001b[0m\n\u001b[1;32m      4\u001b[0m       \u001b[0;34m\"6. sin(x+y)\\n\"\u001b[0m\u001b[0;34m,\u001b[0m \u001b[0;34m\"7. cos(x+y)\\n\"\u001b[0m\u001b[0;34m,\u001b[0m \u001b[0;34m\"8. x^y\\n\"\u001b[0m\u001b[0;34m,\u001b[0m\u001b[0;34m\u001b[0m\u001b[0;34m\u001b[0m\u001b[0m\n\u001b[1;32m      5\u001b[0m       \"0. Выход\\n\", \"__________________________________________________\")\n\u001b[0;32m----> 6\u001b[0;31m \u001b[0mmenu\u001b[0m \u001b[0;34m=\u001b[0m \u001b[0mint\u001b[0m\u001b[0;34m(\u001b[0m\u001b[0minput\u001b[0m\u001b[0;34m(\u001b[0m\u001b[0;34m\"Выберите действие: \"\u001b[0m\u001b[0;34m)\u001b[0m\u001b[0;34m)\u001b[0m\u001b[0;34m\u001b[0m\u001b[0;34m\u001b[0m\u001b[0m\n\u001b[0m\u001b[1;32m      7\u001b[0m \u001b[0mx\u001b[0m \u001b[0;34m=\u001b[0m \u001b[0mint\u001b[0m\u001b[0;34m(\u001b[0m\u001b[0minput\u001b[0m\u001b[0;34m(\u001b[0m\u001b[0;34m\"Введите число a\\n\"\u001b[0m\u001b[0;34m)\u001b[0m\u001b[0;34m)\u001b[0m\u001b[0;34m\u001b[0m\u001b[0;34m\u001b[0m\u001b[0m\n\u001b[1;32m      8\u001b[0m \u001b[0my\u001b[0m \u001b[0;34m=\u001b[0m \u001b[0mint\u001b[0m\u001b[0;34m(\u001b[0m\u001b[0minput\u001b[0m\u001b[0;34m(\u001b[0m\u001b[0;34m\"Введите число b\\n\"\u001b[0m\u001b[0;34m)\u001b[0m\u001b[0;34m)\u001b[0m\u001b[0;34m\u001b[0m\u001b[0;34m\u001b[0m\u001b[0m\n",
            "\u001b[0;32m/usr/local/lib/python3.10/dist-packages/ipykernel/kernelbase.py\u001b[0m in \u001b[0;36mraw_input\u001b[0;34m(self, prompt)\u001b[0m\n\u001b[1;32m    849\u001b[0m                 \u001b[0;34m\"raw_input was called, but this frontend does not support input requests.\"\u001b[0m\u001b[0;34m\u001b[0m\u001b[0;34m\u001b[0m\u001b[0m\n\u001b[1;32m    850\u001b[0m             )\n\u001b[0;32m--> 851\u001b[0;31m         return self._input_request(str(prompt),\n\u001b[0m\u001b[1;32m    852\u001b[0m             \u001b[0mself\u001b[0m\u001b[0;34m.\u001b[0m\u001b[0m_parent_ident\u001b[0m\u001b[0;34m,\u001b[0m\u001b[0;34m\u001b[0m\u001b[0;34m\u001b[0m\u001b[0m\n\u001b[1;32m    853\u001b[0m             \u001b[0mself\u001b[0m\u001b[0;34m.\u001b[0m\u001b[0m_parent_header\u001b[0m\u001b[0;34m,\u001b[0m\u001b[0;34m\u001b[0m\u001b[0;34m\u001b[0m\u001b[0m\n",
            "\u001b[0;32m/usr/local/lib/python3.10/dist-packages/ipykernel/kernelbase.py\u001b[0m in \u001b[0;36m_input_request\u001b[0;34m(self, prompt, ident, parent, password)\u001b[0m\n\u001b[1;32m    893\u001b[0m             \u001b[0;32mexcept\u001b[0m \u001b[0mKeyboardInterrupt\u001b[0m\u001b[0;34m:\u001b[0m\u001b[0;34m\u001b[0m\u001b[0;34m\u001b[0m\u001b[0m\n\u001b[1;32m    894\u001b[0m                 \u001b[0;31m# re-raise KeyboardInterrupt, to truncate traceback\u001b[0m\u001b[0;34m\u001b[0m\u001b[0;34m\u001b[0m\u001b[0m\n\u001b[0;32m--> 895\u001b[0;31m                 \u001b[0;32mraise\u001b[0m \u001b[0mKeyboardInterrupt\u001b[0m\u001b[0;34m(\u001b[0m\u001b[0;34m\"Interrupted by user\"\u001b[0m\u001b[0;34m)\u001b[0m \u001b[0;32mfrom\u001b[0m \u001b[0;32mNone\u001b[0m\u001b[0;34m\u001b[0m\u001b[0;34m\u001b[0m\u001b[0m\n\u001b[0m\u001b[1;32m    896\u001b[0m             \u001b[0;32mexcept\u001b[0m \u001b[0mException\u001b[0m \u001b[0;32mas\u001b[0m \u001b[0me\u001b[0m\u001b[0;34m:\u001b[0m\u001b[0;34m\u001b[0m\u001b[0;34m\u001b[0m\u001b[0m\n\u001b[1;32m    897\u001b[0m                 \u001b[0mself\u001b[0m\u001b[0;34m.\u001b[0m\u001b[0mlog\u001b[0m\u001b[0;34m.\u001b[0m\u001b[0mwarning\u001b[0m\u001b[0;34m(\u001b[0m\u001b[0;34m\"Invalid Message:\"\u001b[0m\u001b[0;34m,\u001b[0m \u001b[0mexc_info\u001b[0m\u001b[0;34m=\u001b[0m\u001b[0;32mTrue\u001b[0m\u001b[0;34m)\u001b[0m\u001b[0;34m\u001b[0m\u001b[0;34m\u001b[0m\u001b[0m\n",
            "\u001b[0;31mKeyboardInterrupt\u001b[0m: Interrupted by user"
          ]
        }
      ]
    }
  ]
}