{
  "nbformat": 4,
  "nbformat_minor": 0,
  "metadata": {
    "colab": {
      "provenance": []
    },
    "kernelspec": {
      "name": "python3",
      "display_name": "Python 3"
    },
    "language_info": {
      "name": "python"
    }
  },
  "cells": [
    {
      "cell_type": "markdown",
      "source": [
        "Задание 1.2.1"
      ],
      "metadata": {
        "id": "CT7yRWyZxHpr"
      }
    },
    {
      "cell_type": "code",
      "source": [
        "class Data:\n",
        "  def __init__(self, *info):\n",
        "    self.info = list(info)\n",
        "  def __getitem__(self, i):\n",
        "    return self.info[i]\n",
        "\n",
        "class Teacher:\n",
        "  def teach(self, info, *pupil):\n",
        "    for i in pupil:\n",
        "      i.take(info)\n",
        "\n",
        "class Pupil:\n",
        "  def __init__(self):\n",
        "    self.knowledge = []\n",
        "  def take(self, info):\n",
        "    self.knowledge.append(info)\n",
        "\n",
        "lesson = Data(\"class\", \"object\", \"inheritance\", \"polymorphism\", \"encapsulation\")\n",
        "marIvanna = Teacher()\n",
        "vasy = Pupil()\n",
        "pety = Pupil()\n",
        "marIvanna.teach(lesson[2], vasy, pety)\n",
        "marIvanna.teach(lesson[0], pety)\n",
        "print(vasy.knowledge)\n",
        "print(pety.knowledge)"
      ],
      "metadata": {
        "id": "GhpnAL7quF03"
      },
      "execution_count": null,
      "outputs": []
    },
    {
      "cell_type": "markdown",
      "source": [
        "Задание 1.2.2"
      ],
      "metadata": {
        "id": "3WOXe5ZCxKMh"
      }
    },
    {
      "cell_type": "code",
      "source": [
        "import random\n",
        "\n",
        "class Warrior:\n",
        "  def __init__(self, health):\n",
        "    self.health = health\n",
        "\n",
        "  def hit(self, target, target1):\n",
        "    if target.health > 0:\n",
        "      target.health -= 20\n",
        "    if target1 == warrior1:\n",
        "      target1 = \"Warrior1\"\n",
        "    if target1 == warrior2:\n",
        "      target1 = \"Warrior2\"\n",
        "    print(target1, \"has attacked\")\n",
        "    print(target.health, \"left\")\n",
        "    if target.health == 0:\n",
        "      print(target1, \"has won\")\n",
        "\n",
        "warrior1 = Warrior(100)\n",
        "warrior2 = Warrior(100)\n",
        "q = int(input(\"Enter 1 to attack. Enter 2 to stop program:\"))\n",
        "\n",
        "while q != 2:\n",
        "  if a == 1:\n",
        "    j = random.randit(1,3)\n",
        "    if j % 2 == 0:\n",
        "      warrior.hit(warrior2, warrior1)\n",
        "      q = int(input(\"Enter 1 to let some warrior attack:\"))\n",
        "    else:\n",
        "      warrior2.hit(warrior1,warrior2)\n",
        "      q = int(input(\"Enter 1 to let some warrior attack:\"))\n",
        "  else:\n",
        "    print(\"wrong input.\")\n",
        "    break"
      ],
      "metadata": {
        "id": "YVl6tvYmxMoq"
      },
      "execution_count": null,
      "outputs": []
    },
    {
      "cell_type": "markdown",
      "source": [
        "Задание 1.2.3"
      ],
      "metadata": {
        "id": "9hHC2HkRvkto"
      }
    },
    {
      "cell_type": "code",
      "source": [
        "from math import e\n",
        "class Rational:\n",
        "  @staticmethod\n",
        "  def gcd(a,b):\n",
        "    while (b != 0):\n",
        "      (a,b) = (b, a%b)\n",
        "    return a\n",
        "\n",
        "  @staticmethod\n",
        "  def sgn(x):\n",
        "    if x > 0:\n",
        "      return 1\n",
        "    elif x < 0:\n",
        "      return -1\n",
        "    else:\n",
        "      return 0\n",
        "\n",
        "  def __init__(self, n, d):\n",
        "    if n == 0:\n",
        "      self.num = 0\n",
        "      self.den = 1\n",
        "    else:\n",
        "      z = self.sgn(n) * self.sgn(d)\n",
        "      n = abs(n)\n",
        "      d = abs(d)\n",
        "      k = self.gcd(n,d)\n",
        "      self.num = z*n//k\n",
        "      self.den = d//k\n",
        "\n",
        "  def __str__(self):\n",
        "    if self.num == 0:\n",
        "      return \"0\"\n",
        "    else:\n",
        "      return str(self.num) + \"/\" + str(self.den)\n",
        "\n",
        "  def __add__(self, o):\n",
        "    n1 = self.num\n",
        "    d1 = self.den\n",
        "    if type(o) == int:\n",
        "      n2 = o\n",
        "      d2 = 1\n",
        "    else:\n",
        "      n2 = o.num\n",
        "      d2 = o.den\n",
        "    n = n1*d2+n2*d1\n",
        "    d = d1*d2\n",
        "    return Rational(n,d)\n",
        "\n",
        "  def __radd__(self, o):\n",
        "    n1 = self.num\n",
        "    d1 = self.den\n",
        "    if type(o) == int:\n",
        "      n2 = o\n",
        "      d2 = 1\n",
        "    else:\n",
        "      n2 = o.num\n",
        "      d2 = o.den\n",
        "    n = n1*d2+n2*d1\n",
        "    d = d1*d2\n",
        "    return Rational(n,d)\n",
        "\n",
        "  def __sub__(self, o):\n",
        "    n1 = self.num\n",
        "    d1 = self.den\n",
        "    n2 = o.num\n",
        "    d2 = o.den\n",
        "    n = n1*d2-n2*d1\n",
        "    d = d1*d2\n",
        "    return Rational(n,d)\n",
        "\n",
        "  def __mul__(self, o):\n",
        "    n1 = self.num\n",
        "    d1 = self.den\n",
        "    n2 = o.num\n",
        "    d2 = o.den\n",
        "    n = n1*n2\n",
        "    d = d1*d2\n",
        "    return Rational(n,d)\n",
        "\n",
        "  def __floordiv__(self, o):\n",
        "    n1 = self.num\n",
        "    d1 = self.den\n",
        "    n2 = o.num\n",
        "    d2 = o.den\n",
        "    n = n1*d2 - d1*n2\n",
        "    d = d1*d2\n",
        "    return Rational(n,d)\n",
        "\n",
        "d1 = Rational(1,2)\n",
        "d2 = Rational(1,3)\n",
        "d3 = d1+d2\n",
        "print(d3)\n",
        "d4 = d1-d2\n",
        "print(d4)\n",
        "d5 = d1*d2\n",
        "print(d5)\n",
        "d6 = d1*d2\n",
        "print(d6)\n",
        "d7 = d1//d2\n",
        "print(d7)\n",
        "d8 = 6+d1\n",
        "print(d8)"
      ],
      "metadata": {
        "id": "_MGncAeqvpaU"
      },
      "execution_count": null,
      "outputs": []
    },
    {
      "cell_type": "markdown",
      "source": [
        "Задание 1.2.4"
      ],
      "metadata": {
        "id": "ng-Fp-qa7gLG"
      }
    },
    {
      "cell_type": "code",
      "source": [
        "import numpy as np\n",
        "import math as m\n",
        "\n",
        "class Trighonometry:\n",
        "\n",
        "  def sin(x):\n",
        "    return m.sin(x)\n",
        "\n",
        "  def cos(x):\n",
        "    return m.cos(x)\n",
        "\n",
        "  def tg(x):\n",
        "    return m.tan(x)\n",
        "\n",
        "  def arctg(x):\n",
        "    return m.atan(x)\n",
        "\n",
        "  def arccos(x):\n",
        "    return m.acos(x)\n",
        "\n",
        "  def arcsin(x):\n",
        "    return m.asin(x)\n",
        "\n",
        "  def rad(x):\n",
        "    return np.radians(x)\n",
        "\n",
        "x = 1\n",
        "print(\"Синус : \",Trighonometry.sin(x))\n",
        "print(\"Косинус : \",Trighonometry.cos(x))\n",
        "print(\"Тангенс : \",Trighonometry.tg(x))\n",
        "print(\"Арксинус : \",Trighonometry.arcsin(x))\n",
        "print(\"Арккосинус : \",Trighonometry.arccos(x))\n",
        "print(\"Арктангенс : \",Trighonometry.arctg(x))\n",
        "print(\"Перевод в радианы : \",Trighonometry.rad(x))\n"
      ],
      "metadata": {
        "id": "dLUv34h67kJI"
      },
      "execution_count": null,
      "outputs": []
    },
    {
      "cell_type": "markdown",
      "source": [
        "Задание 2.2.1"
      ],
      "metadata": {
        "id": "orfdbeQ07kge"
      }
    },
    {
      "cell_type": "code",
      "source": [
        "class Tree:\n",
        "  def __init__(self, left, right):\n",
        "    self.left = left\n",
        "    self.right = right\n",
        "\n",
        "t = Tree(Tree(\"a\", \"b\"), Tree(\"c\", \"d\"))\n",
        "t.right.left"
      ],
      "metadata": {
        "id": "8Llz_vrE73rd"
      },
      "execution_count": null,
      "outputs": []
    },
    {
      "cell_type": "markdown",
      "source": [
        "Задание 2.2.2"
      ],
      "metadata": {
        "id": "XTKSDZfd8Q_c"
      }
    },
    {
      "cell_type": "code",
      "source": [
        "class Tree:\n",
        "  def __init__(self, kids, next = None):\n",
        "    self.kids = self.val = kids\n",
        "    self.next = next\n",
        "\n",
        "t = Tree(Tree(\"a\", Tree(\"b\", Tree(\"c\", Tree(\"d\")))))\n",
        "t.kids.next.next.val"
      ],
      "metadata": {
        "id": "kwEwyOmI8Ti1"
      },
      "execution_count": null,
      "outputs": []
    },
    {
      "cell_type": "markdown",
      "source": [
        "Задание 2.2.3"
      ],
      "metadata": {
        "id": "A_U-ODo3803W"
      }
    },
    {
      "cell_type": "code",
      "source": [
        "class Tree:\n",
        "  def __init__(self,trees):\n",
        "      self.trees = trees\n",
        "\n",
        "t = Tree([\"A\",[\"B\",[\"D\",\"E\"],\"C\",[\"F\"]]])\n",
        "print(\"Корень : \",t.trees[0])\n",
        "print(\"Левое поддерево : \",t.trees[1][0:2])\n",
        "print(\"Правое поддерево : \",t.trees[1][2:])"
      ],
      "metadata": {
        "id": "Peh7v1kh83FP"
      },
      "execution_count": null,
      "outputs": []
    },
    {
      "cell_type": "markdown",
      "source": [
        "Задание 2.2.4"
      ],
      "metadata": {
        "id": "XUts0Cjr83L1"
      }
    },
    {
      "cell_type": "code",
      "source": [
        "class Tree:\n",
        "    def __init__(self,data):\n",
        "      self.left = None\n",
        "      self.right = None\n",
        "      self.data = data\n",
        "\n",
        "    def insert(self,value):\n",
        "      if self.data > value:\n",
        "        if self.left == None:\n",
        "          self.left = Tree(value)\n",
        "        else:\n",
        "          self.left.insert(value)\n",
        "      elif self.data < value:\n",
        "        if self.right == None:\n",
        "          self.right = Tree(value)\n",
        "        else:\n",
        "          self.data.insert(value)\n",
        "\n",
        "    def print_tree(self):\n",
        "      if self.left:\n",
        "        self.left.print_tree()\n",
        "      print(self.data)\n",
        "      if self.right:\n",
        "        self.right.print_tree()\n",
        "\n",
        "tr = Tree(5)\n",
        "tr.insert(3)\n",
        "tr.insert(7)\n",
        "tr.insert(2)"
      ],
      "metadata": {
        "id": "AGmwofR885Yp"
      },
      "execution_count": null,
      "outputs": []
    },
    {
      "cell_type": "markdown",
      "source": [
        "Задание 3.2.1"
      ],
      "metadata": {
        "id": "v1KGzmQ985fR"
      }
    },
    {
      "cell_type": "code",
      "source": [
        "import pandas as pd\n",
        "import numpy as np\n",
        "import seaborn as sns\n",
        "import matplotlib.pyplot as plt\n",
        "from sklearn.model_selection import train_test_split\n",
        "from sklearn.tree import DecisionTreeClassifier\n",
        "from sklearn import tree\n",
        "from sklearn.metrics import classification_report, confusion_matrix\n",
        "\n",
        "dataset = sns.load_dataset(\"iris\")\n",
        "print(dataset)\n",
        "print(dataset.shape)\n",
        "print(dataset.head())\n",
        "\n",
        "X_train, X_test, Y_train, Y_test = train_test_split(dataset.iloc[:,:-1], dataset.iloc[:,-1], test_size = 0.20)\n",
        "print(X_train.shape, X_test.shape, Y_train.shape, Y_test.shape)\n",
        "X_train.head()\n",
        "Y_train.head()\n",
        "\n",
        "classifier = DecisionTreeClassifier()\n",
        "classifier.fit(X_train, Y_train)\n",
        "\n",
        "tree.plot_tree(classifier)\n",
        "y_pred = classifier.predict(X_test)\n",
        "print(y_pred)\n",
        "\n",
        "print(confusion_matrix(Y_test, y_pred))\n",
        "\n"
      ],
      "metadata": {
        "id": "84mSYYLy89vD"
      },
      "execution_count": null,
      "outputs": []
    },
    {
      "cell_type": "markdown",
      "source": [
        "Задание 3.2.2"
      ],
      "metadata": {
        "id": "UVO7kdZpAJTe"
      }
    },
    {
      "cell_type": "code",
      "source": [
        "import pandas as pd\n",
        "import numpy as np\n",
        "import seaborn as sns\n",
        "import matplotlib.pyplot as plt\n",
        "\n",
        "X = np.array([[-1, -1], [-2, -1], [-3,-2], [1,1], [2,1], [3,2]])\n",
        "print(X)\n",
        "print(dataset.shape,'\\n')\n",
        "print(dataset.head(),'\\n')\n",
        "\n",
        "from sklearn.model_selection import train_test_split\n",
        "\n",
        "X_train, X_test, y_train, y_test = train_test_split(\n",
        "    dataset.iloc[:,:-1],\n",
        "    dataset.iloc[:, -1],\n",
        "    test_size = 0.20\n",
        ")\n",
        "\n",
        "X_train.shape, X_test.shape, y_train.shape, y_test.shape\n",
        "print(X_train.head(),'\\n')\n",
        "print(y_train.head(),'\\n')\n",
        "\n",
        "from sklearn.tree import DecisionTreeClassifier\n",
        "\n",
        "classifier = DecisionTreeClassifier()\n",
        "classifier.fit(X_train,y_train)\n",
        "\n",
        "from sklearn import tree\n",
        "\n",
        "print(tree.plot_tree(classifier),'\\n')\n",
        "\n",
        "y_pred = classifier.predict(X_test)\n",
        "print(y_pred,\"\\n\")\n",
        "\n",
        "from sklearn.metrics import classification_report, confusion_matrix\n",
        "print(confusion_matrix(y_test,y_pred),'\\n')\n",
        "print(classification_report(y_test,y_pred))"
      ],
      "metadata": {
        "id": "cp-zsUfHANvj"
      },
      "execution_count": null,
      "outputs": []
    },
    {
      "cell_type": "markdown",
      "source": [
        "Задание 3.2.3"
      ],
      "metadata": {
        "id": "MkY0fY5kAONJ"
      }
    },
    {
      "cell_type": "code",
      "source": [
        "import pandas as pd\n",
        "import numpy as np\n",
        "import seaborn as sns\n",
        "import matplotlib.pyplot as plt\n",
        "\n",
        "X = np.array([[-1, -1], [-2, -1], [-3,-2], [1,1], [2,1], [3,2]])\n",
        "print(X)\n",
        "print(dataset.shape,'\\n')\n",
        "print(dataset.head(),'\\n')\n",
        "\n",
        "from sklearn.model_selection import train_test_split\n",
        "\n",
        "X_train, X_test, y_train, y_test = train_test_split(\n",
        "    dataset.iloc[:,:-1],\n",
        "    dataset.iloc[:, -1],\n",
        "    test_size = 0.20\n",
        ")\n",
        "\n",
        "X_train.shape, X_test.shape, y_train.shape, y_test.shape\n",
        "print(X_train.head(),'\\n')\n",
        "print(y_train.head(),'\\n')\n",
        "\n",
        "from sklearn.tree import DecisionTreeClassifier\n",
        "\n",
        "classifier = DecisionTreeClassifier()\n",
        "classifier.fit(X_train,y_train)\n",
        "\n",
        "from sklearn import tree\n",
        "\n",
        "print(tree.plot_tree(classifier),'\\n')\n",
        "\n",
        "y_pred = classifier.predict(X_test)\n",
        "print(y_pred,\"\\n\")\n",
        "\n",
        "from sklearn.metrics import classification_report, confusion_matrix\n",
        "print(confusion_matrix(y_test,y_pred),'\\n')\n",
        "print(classification_report(y_test,y_pred))"
      ],
      "metadata": {
        "id": "VqKCxfWZNgfN"
      },
      "execution_count": null,
      "outputs": []
    },
    {
      "cell_type": "markdown",
      "source": [
        "Задание 1.4.1"
      ],
      "metadata": {
        "id": "mKzmAMr3Oati"
      }
    },
    {
      "cell_type": "code",
      "source": [
        "import pandas as pd\n",
        "import numpy as np\n",
        "import matplotlib.pyplot as plt\n",
        "\n",
        "url = r\"https://raw.githubusercontent.com/AnnaShestova/salary-years-simple-linear-regression/master/Salary_Data.csv\"\n",
        "dataset = pd.read_csv(url)\n",
        "dataset.head()\n",
        "\n",
        "print(dataset.shape)\n",
        "dataset.describe()\n",
        "\n",
        "plt.scatter(dataset[\"YearsExperience\"], dataset[\"Salary\"], color = \"b\", label = \"Заработная плата\")\n",
        "x = dataset.iloc[:,:-1].values\n",
        "y = dataset.iloc[:,1].values\n",
        "\n",
        "print(x)\n",
        "print(y)\n",
        "\n",
        "x_train, x_test, y_train, y_test = train_test_split(x, y, test_size =0.2, random_state = 0)\n",
        "\n",
        "regressor = DecisionTreeRegressor()\n",
        "regressor.fit(x_train, y_train)\n",
        "\n",
        "from sklearn import tree\n",
        "tree.plot_tree(regressor)\n",
        "\n",
        "y_pred = regressor.predict(x_test)\n",
        "print(y_pred)\n",
        "\n",
        "df = pd.DataFrame(\"Actual\": y_test, \"Predicted\": y_pred)\n",
        "print(df)\n",
        "\n",
        "from sklearn import metrics\n",
        "print(\"Mean Squared Error:\", metrics.mean_squared_error(y_test, y_pred))\n",
        "print(\"Mean Absolute Error:\", metrics.mean_absolute_error(y_test, y_pred))\n",
        "\n",
        "metrics.mean_absolute_error(y_test, y_pred)/np.avarage(y)*100"
      ],
      "metadata": {
        "id": "NxGve3GETnhA"
      },
      "execution_count": null,
      "outputs": []
    },
    {
      "cell_type": "markdown",
      "source": [
        "Задание 1.4.2"
      ],
      "metadata": {
        "id": "2LpU2DNMTpu7"
      }
    },
    {
      "cell_type": "code",
      "source": [
        "import pandas as pd\n",
        "import numpy as np\n",
        "import matplotlib.pyplot as plt\n",
        "\n",
        "url = 'https://raw.githubusercontent.com/aniruddhachoudhury/Red-Wine-Quality/master/winequality-red.csv'\n",
        "dataset = pd.read_csv(url)\n",
        "dataset.head()\n",
        "print(dataset.head(50))\n",
        "\n",
        "print(dataset.shape)\n",
        "dataset.describe()\n",
        "\n",
        "plt.scatter (dataset['citric acid'], dataset['quality'], color = 'b', label = \"Качество красного вина\")\n",
        "plt.xlabel('citric acid')\n",
        "plt.ylabel('quality')\n",
        "plt.show()\n",
        "\n",
        "from sklearn.tree import DecisionTreeRegressor\n",
        "X = dataset.iloc[:,:-1].values\n",
        "y = dataset.iloc[:,1].values\n",
        "print(X)\n",
        "print(y)\n",
        "\n",
        "X_train, X_test, y_train, y_test = train_test_split(X, y, test_size = 0.2, random_state = 0)\n",
        "\n",
        "regressor = DecisionTreeRegressor()\n",
        "regressor.fit(X_train, y_train)\n",
        "\n",
        "from sklearn import tree\n",
        "tree.plot_tree(regressor)\n",
        "\n",
        "y_pred = regressor.predict(X_test)\n",
        "print(y_pred)\n",
        "\n",
        "df = pd.DataFrame({'Actual':y_test, 'Predicted':y_pred})\n",
        "print(df)\n",
        "\n",
        "from sklearn import metrics\n",
        "print('Mean Squared Error:', metrics.mean_squared_error(y_test,y_pred))\n",
        "print('Mean Absured Error:',metrics.mean_absolute_error(y_test,y_pred))\n",
        "\n",
        "metrics.mean_absolute_error(y_test, y_pred) / np.average(y) * 100\n"
      ],
      "metadata": {
        "id": "JHeRMT9aOdn9"
      },
      "execution_count": null,
      "outputs": []
    }
  ]
}