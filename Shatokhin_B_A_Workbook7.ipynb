{
  "nbformat": 4,
  "nbformat_minor": 0,
  "metadata": {
    "colab": {
      "provenance": []
    },
    "kernelspec": {
      "name": "python3",
      "display_name": "Python 3"
    },
    "language_info": {
      "name": "python"
    }
  },
  "cells": [
    {
      "cell_type": "markdown",
      "source": [
        "Задание 1.1.1"
      ],
      "metadata": {
        "id": "p9aCgnL_9e6f"
      }
    },
    {
      "cell_type": "code",
      "execution_count": null,
      "metadata": {
        "colab": {
          "base_uri": "https://localhost:8080/"
        },
        "id": "LS7UtPim9aPO",
        "outputId": "7969bb47-04a3-4f05-9932-cab41641555a"
      },
      "outputs": [
        {
          "output_type": "stream",
          "name": "stdout",
          "text": [
            "[0.1, -0.1]\n",
            "-1\n",
            "1\n",
            "1\n",
            "-1\n"
          ]
        }
      ],
      "source": [
        "class Perceptron:\n",
        "  def __init__(self, N):\n",
        "    self.w = list()\n",
        "    for i in range(N):\n",
        "      self.w.append(0)\n",
        "\n",
        "  def calc(self, x):\n",
        "    res = 0\n",
        "    for i in range(len(self.w)):\n",
        "      res = res + self.w[i] * x[i]\n",
        "    return res\n",
        "\n",
        "  def sign(self,x):\n",
        "    if self.calc(x) > 0:\n",
        "      return 1\n",
        "    else:\n",
        "      return -1\n",
        "\n",
        "  def learn(self, la, x, y):\n",
        "    if y * self.calc(x) <= 0:\n",
        "      for i in range(len(self.w)):\n",
        "        self.w[i] = self.w[i] + la*y*x[i]\n",
        "\n",
        "  def learning(self, la, T):\n",
        "    for n in range(100):\n",
        "      for t in T:\n",
        "        self.learn(la, t[0], t[1])\n",
        "\n",
        "perceptron = Perceptron(2)\n",
        "la = 0.1\n",
        "T = list()\n",
        "T.append([[2,1],1])\n",
        "T.append([[3,2],1])\n",
        "T.append([[4,1],1])\n",
        "T.append([[1,2],-1])\n",
        "T.append([[2,3],-1])\n",
        "T.append([[5,7],-1])\n",
        "perceptron.learning(la, T)\n",
        "print(perceptron.w)\n",
        "print(perceptron.sign([1.5,2]))\n",
        "print(perceptron.sign([3,1.5]))\n",
        "print(perceptron.sign([5,1]))\n",
        "print(perceptron.sign([5,10]))"
      ]
    },
    {
      "cell_type": "markdown",
      "source": [
        "Задание 1.1.2"
      ],
      "metadata": {
        "id": "I3q3BNWfAYTt"
      }
    },
    {
      "cell_type": "code",
      "source": [
        "import numpy as np\n",
        "\n",
        "def sigmoid(x):\n",
        "  return 1/(1+np.exp(-x))\n",
        "\n",
        "class Neuron:\n",
        "  def __init__(self, weights, bias):\n",
        "    self.weights = weights\n",
        "    self.bias = bias\n",
        "\n",
        "  def feedforward(self, inputs):\n",
        "    total = np.dot(self.weights, inputs) + self.bias\n",
        "    return sigmoid(total)\n",
        "\n",
        "weights = np.array([0,1])\n",
        "bias = 4\n",
        "n = Neuron(weights, bias)\n",
        "x = np.array([2,3])\n",
        "print(n.feedforward(x))"
      ],
      "metadata": {
        "colab": {
          "base_uri": "https://localhost:8080/"
        },
        "id": "dCgbVyq2AcVA",
        "outputId": "fea165d0-2cea-4195-95d7-7b7105aa407f"
      },
      "execution_count": null,
      "outputs": [
        {
          "output_type": "stream",
          "name": "stdout",
          "text": [
            "0.9990889488055994\n"
          ]
        }
      ]
    },
    {
      "cell_type": "markdown",
      "source": [
        "Задание 1.1.3"
      ],
      "metadata": {
        "id": "pdGY6bOnBkxu"
      }
    },
    {
      "cell_type": "code",
      "source": [
        "import numpy as np\n",
        "\n",
        "class OurNeuralNetwork:\n",
        "  def __init__(self):\n",
        "    wights = np.array([0,1])\n",
        "    bias = 0\n",
        "    self.h1 = Neuron(weights, bias)\n",
        "    self.h2 = Neuron(weights, bias)\n",
        "    self.o1 = Neuron(weights, bias)\n",
        "\n",
        "  def feedforward(self, x):\n",
        "    out_h1 = self.h1.feedforward(x)\n",
        "    out_h2 = self.h2.feedforward(x)\n",
        "    out_o1 = self.o1.feedforward(np.array([out_h1, out_h2]))\n",
        "    return out_o1\n",
        "\n",
        "network = OurNeuralNetwork()\n",
        "x = np.array([2,3])\n",
        "print(network.feedforward(x))"
      ],
      "metadata": {
        "colab": {
          "base_uri": "https://localhost:8080/"
        },
        "id": "9DWCmNKEBnDi",
        "outputId": "c981d982-301b-4526-9335-00ed9da9eb0c"
      },
      "execution_count": null,
      "outputs": [
        {
          "output_type": "stream",
          "name": "stdout",
          "text": [
            "0.7216325609518421\n"
          ]
        }
      ]
    },
    {
      "cell_type": "markdown",
      "source": [
        "Задание 1.1.4"
      ],
      "metadata": {
        "id": "SEi67AnYC8x2"
      }
    },
    {
      "cell_type": "code",
      "source": [
        "def sigmoid(x):\n",
        "    return 1 / (1 + np.exp(-x))\n",
        "class Neuron:\n",
        "    def __init__(self, weights, bias):\n",
        "        self.weights = weights\n",
        "        self.bias = bias\n",
        "    def feedforward(self, inputs):\n",
        "        total = np.dot(self.weights, inputs) + self.bias\n",
        "        return sigmoid(total)\n",
        "\n",
        "weights = np.array([0, 1])\n",
        "bias = 4\n",
        "n = Neuron(weights, bias)\n",
        "x = np.array([2, 3])\n",
        "print(n.feedforward(x))"
      ],
      "metadata": {
        "id": "0JkOJnRrVAth"
      },
      "execution_count": null,
      "outputs": []
    },
    {
      "cell_type": "code",
      "source": [
        "class OurNeuralNetwork:\n",
        "    def __init__(self):\n",
        "        weights = np.array([0.5, 0.5, 0.5])\n",
        "        bias = 0\n",
        "\n",
        "        self.h1 = Neuron(weights, bias)\n",
        "        self.h2 = Neuron(weights, bias)\n",
        "        self.h3 = Neuron(weights, bias)\n",
        "        self.o1 = Neuron(weights, bias)\n",
        "    def feedforward(self, x):\n",
        "        out_h1 = self.h1.feedforward(x)\n",
        "        out_h2 = self.h2.feedforward(x)\n",
        "        out_h3 = self.h2.feedforward(x)\n",
        "        out_o1 = self.o1.feedforward(np.array([out_h1, out_h2, out_h3]))\n",
        "        return out_o1\n",
        "\n",
        "network = OurNeuralNetwork()\n",
        "x = np.array([2, 3, 4])\n",
        "print(network.feedforward(x))"
      ],
      "metadata": {
        "id": "MyoJiLAEVM-X"
      },
      "execution_count": null,
      "outputs": []
    },
    {
      "cell_type": "code",
      "source": [
        "class OurNeuralNetwork:\n",
        "    def __init__(self):\n",
        "        weights = np.array([1, 0])\n",
        "        bias = 1\n",
        "\n",
        "        self.h1 = Neuron(weights, bias)\n",
        "        self.h2 = Neuron(weights, bias)\n",
        "        self.o1 = Neuron(weights, bias)\n",
        "        self.o2 = Neuron(weights, bias)\n",
        "    def feedforward(self, x):\n",
        "        out_h1 = self.h1.feedforward(x)\n",
        "        out_h2 = self.h2.feedforward(x)\n",
        "        out_o1 = self.o1.feedforward(np.array([out_h1, out_h2]))\n",
        "        out_o2 = self.o2.feedforward(np.array([out_h1, out_h2]))\n",
        "        return out_o1, out_o2\n",
        "\n",
        "network = OurNeuralNetwork()\n",
        "x = np.array([2, 3])\n",
        "print(network.feedforward(x))"
      ],
      "metadata": {
        "id": "FTKoDNYrVU_w"
      },
      "execution_count": null,
      "outputs": []
    },
    {
      "cell_type": "code",
      "source": [
        "#sigmod\n",
        "def sigmoid(x):\n",
        "    sig = 1 / (1 + np.exp(-x))\n",
        "    return sig\n",
        "\n",
        "class Neuron1:\n",
        "    def __init__(self, weights, bias):\n",
        "        self.weights = weights\n",
        "        self.bias = bias\n",
        "    def feedforward (self, inputs):\n",
        "        total = np.dot(self.weights, inputs) + self.bias\n",
        "        return sigmoid(total)\n",
        "\n",
        "class OurNeuralNetwork:\n",
        "    def __init__(self):\n",
        "        weights = np.array([0.5, 0.5, 0.5])\n",
        "        bias = 0\n",
        "        self.h1 = Neuron1(weights, bias)\n",
        "        self.h2 = Neuron1(weights, bias)\n",
        "        self.h3 = Neuron1(weights, bias)\n",
        "        self.o1 = Neuron1(weights, bias)\n",
        "    def feedforward(self, x):\n",
        "        out_h1 = self.h1.feedforward(x)\n",
        "        out_h2 = self.h2.feedforward(x)\n",
        "        out_h3 = self.h3.feedforward(x)\n",
        "        out_o1 = self.o1.feedforward(np.array([out_h1, out_h2, out_h3]))\n",
        "        return out_o1\n",
        "\n",
        "class OrNeuralNetwork:\n",
        "    def __init__(self):\n",
        "        weights = np.array([1,0])\n",
        "        bias = 1\n",
        "\n",
        "        self.h1 = Neuron1(weights, bias)\n",
        "        self.h2 = Neuron1(weights, bias)\n",
        "        self.o1 = Neuron1(weights, bias)\n",
        "        self.o2 = Neuron1(weights, bias)\n",
        "    def feedforward(self, x):\n",
        "        out_h1 = self.h1.feedforward(x)\n",
        "        out_h2 = self.h2.feedforward(x)\n",
        "        out_o1 = self.o1.feedforward(np.array([out_h1, out_h2]))\n",
        "        out_o2 = self.o2.feedforward(np.array([out_h1, out_h2]))\n",
        "        return out_o1, out_o2\n",
        "\n",
        "network = OurNeuralNetwork()\n",
        "x = np.array ([2, 3, 4])\n",
        "print (network.feedforward(x))\n",
        "\n",
        "network = OrNeuralNetwork()\n",
        "x = np.array ([2, 3])\n",
        "print (network.feedforward(x))\n",
        "\n",
        "def tanh(x):\n",
        "    return np.tan(x)\n",
        "\n",
        "class Neuron2:\n",
        "    def __init__(self, weights, bias):\n",
        "        self.weights = weights\n",
        "        self.bias = bias\n",
        "    def feedforward (self, inputs):\n",
        "        total = np.dot(self.weights, inputs) + self.bias\n",
        "        return tanh(total)\n",
        "\n",
        "class OurNeuralNetwork:\n",
        "    def __init__(self):\n",
        "        weights = np.array([0.5, 0.5, 0.5])\n",
        "        bias = 0\n",
        "        self.h1 = Neuron2(weights, bias)\n",
        "        self.h2 = Neuron2(weights, bias)\n",
        "        self.h3 = Neuron2(weights, bias)\n",
        "        self.o1 = Neuron2(weights, bias)\n",
        "    def feedforward(self, x):\n",
        "        out_h1 = self.h1.feedforward(x)\n",
        "        out_h2 = self.h2.feedforward(x)\n",
        "        out_h3 = self.h3.feedforward(x)\n",
        "        out_o1 = self.o1.feedforward(np.array([out_h1, out_h2, out_h3]))\n",
        "        return out_o1\n",
        "\n",
        "network = OurNeuralNetwork()\n",
        "x = np.array ([2, 3, 4])\n",
        "print (network.feedforward(x))\n",
        "\n",
        "class OurNeuralNetwork:\n",
        "    def __init__(self):\n",
        "        weights = np.array([1,0])\n",
        "        bias = 1\n",
        "\n",
        "        self.h1 = Neuron2(weights, bias)\n",
        "        self.h2 = Neuron2(weights, bias)\n",
        "        self.o1 = Neuron2(weights, bias)\n",
        "        self.o2 = Neuron2(weights, bias)\n",
        "    def feedforward(self, x):\n",
        "        out_h1 = self.h1.feedforward(x)\n",
        "        out_h2 = self.h2.feedforward(x)\n",
        "        out_o1 = self.o1.feedforward(np.array([out_h1, out_h2]))\n",
        "        out_o2 = self.o2.feedforward(np.array([out_h1, out_h2]))\n",
        "        return out_o1, out_o2\n",
        "\n",
        "network = OurNeuralNetwork()\n",
        "x = np.array ([2, 3])\n",
        "print (network.feedforward(x))"
      ],
      "metadata": {
        "colab": {
          "base_uri": "https://localhost:8080/"
        },
        "id": "Fl9e7givD-CX",
        "outputId": "6dedcdad-fe37-4a86-e04a-8ffde5af76d8"
      },
      "execution_count": null,
      "outputs": [
        {
          "output_type": "stream",
          "name": "stdout",
          "text": [
            "0.9990889488055994\n"
          ]
        }
      ]
    },
    {
      "cell_type": "code",
      "source": [
        "#tanh\n",
        "def tanh(x):\n",
        "    return np.tan(x)\n",
        "\n",
        "class Neuron2:\n",
        "    def __init__(self, weights, bias):\n",
        "        self.weights = weights\n",
        "        self.bias = bias\n",
        "    def feedforward (self, inputs):\n",
        "        total = np.dot(self.weights, inputs) + self.bias\n",
        "        return tanh(total)\n",
        "\n",
        "class OurNeuralNetwork:\n",
        "    def __init__(self):\n",
        "        weights = np.array([0.5, 0.5, 0.5])\n",
        "        bias = 0\n",
        "        self.h1 = Neuron2(weights, bias)\n",
        "        self.h2 = Neuron2(weights, bias)\n",
        "        self.h3 = Neuron2(weights, bias)\n",
        "        self.o1 = Neuron2(weights, bias)\n",
        "    def feedforward(self, x):\n",
        "        out_h1 = self.h1.feedforward(x)\n",
        "        out_h2 = self.h2.feedforward(x)\n",
        "        out_h3 = self.h3.feedforward(x)\n",
        "        out_o1 = self.o1.feedforward(np.array([out_h1, out_h2, out_h3]))\n",
        "        return out_o1\n",
        "\n",
        "network = OurNeuralNetwork()\n",
        "x = np.array ([2, 3, 4])\n",
        "print (network.feedforward(x))\n",
        "\n",
        "class OurNeuralNetwork:\n",
        "    def __init__(self):\n",
        "        weights = np.array([1,0])\n",
        "        bias = 1\n",
        "\n",
        "        self.h1 = Neuron2(weights, bias)\n",
        "        self.h2 = Neuron2(weights, bias)\n",
        "        self.o1 = Neuron2(weights, bias)\n",
        "        self.o2 = Neuron2(weights, bias)\n",
        "    def feedforward(self, x):\n",
        "        out_h1 = self.h1.feedforward(x)\n",
        "        out_h2 = self.h2.feedforward(x)\n",
        "        out_o1 = self.o1.feedforward(np.array([out_h1, out_h2]))\n",
        "        out_o2 = self.o2.feedforward(np.array([out_h1, out_h2]))\n",
        "        return out_o1, out_o2\n",
        "\n",
        "network = OurNeuralNetwork()\n",
        "x = np.array ([2, 3])\n",
        "print (network.feedforward(x))"
      ],
      "metadata": {
        "id": "zmV4NCkJUzwv"
      },
      "execution_count": null,
      "outputs": []
    },
    {
      "cell_type": "code",
      "source": [
        "#relu\n",
        "def ReLU(x):\n",
        "    return np.maximum(0, x)\n",
        "\n",
        "class Neuron3:\n",
        "    def __init__(self, weights, bias):\n",
        "        self.weights = weights\n",
        "        self.bias = bias\n",
        "    def feedforward (self, inputs):\n",
        "        total = np.dot(self.weights, inputs) + self.bias\n",
        "        return ReLU(total)\n",
        "\n",
        "class OurNeuralNetwork:\n",
        "    def __init__(self):\n",
        "        weights = np.array([0.5, 0.5, 0.5])\n",
        "        bias = 0\n",
        "        self.h1 = Neuron3(weights, bias)\n",
        "        self.h2 = Neuron3(weights, bias)\n",
        "        self.h3 = Neuron3(weights, bias)\n",
        "        self.o1 = Neuron3(weights, bias)\n",
        "    def feedforward(self, x):\n",
        "        out_h1 = self.h1.feedforward(x)\n",
        "        out_h2 = self.h2.feedforward(x)\n",
        "        out_h3 = self.h3.feedforward(x)\n",
        "        out_o1 = self.o1.feedforward(np.array([out_h1, out_h2, out_h3]))\n",
        "        return out_o1\n",
        "\n",
        "network = OurNeuralNetwork()\n",
        "x = np.array ([2, 3, 4])\n",
        "print (network.feedforward(x))\n",
        "\n",
        "class OurNeuralNetwork:\n",
        "    def __init__(self):\n",
        "        weights = np.array([1,0])\n",
        "        bias = 1\n",
        "\n",
        "        self.h1 = Neuron3(weights, bias)\n",
        "        self.h2 = Neuron3(weights, bias)\n",
        "        self.o1 = Neuron3(weights, bias)\n",
        "        self.o2 = Neuron3(weights, bias)\n",
        "    def feedforward(self, x):\n",
        "        out_h1 = self.h1.feedforward(x)\n",
        "        out_h2 = self.h2.feedforward(x)\n",
        "        out_o1 = self.o1.feedforward(np.array([out_h1, out_h2]))\n",
        "        out_o2 = self.o2.feedforward(np.array([out_h1, out_h2]))\n",
        "        return out_o1, out_o2\n",
        "\n",
        "network = OurNeuralNetwork()\n",
        "x = np.array ([2, 3])\n",
        "print (network.feedforward(x))"
      ],
      "metadata": {
        "id": "VayvrB8DU20f"
      },
      "execution_count": null,
      "outputs": []
    },
    {
      "cell_type": "markdown",
      "source": [
        "Задание 1.2.1"
      ],
      "metadata": {
        "id": "lMSQ3vgiFP36"
      }
    },
    {
      "cell_type": "code",
      "source": [
        "import numpy as np\n",
        "import pandas as pd\n",
        "import matplotlib.pyplot as plt\n",
        "import sklearn\n",
        "\n",
        "from sklearn.datasets import load_digits, load_boston\n",
        "\n",
        "digits = load_digits()\n",
        "X_digits, Y_digits = digits.data, digits.target\n",
        "print(\"Dataset Sizes : \", X_digits.shape, Y_digits.shape)\n",
        "\n",
        "boston = load_boston\n",
        "X_boston, Y_boston = boston.data, boston.target\n",
        "print(\"Datasett Sizes : \", X_boston.shape, Y_boston.shape)"
      ],
      "metadata": {
        "colab": {
          "base_uri": "https://localhost:8080/",
          "height": 1000
        },
        "collapsed": true,
        "id": "FmeeaycRFXcQ",
        "outputId": "d3c09f16-980b-49c7-c23e-01f11336ee89"
      },
      "execution_count": null,
      "outputs": [
        {
          "output_type": "error",
          "ename": "ImportError",
          "evalue": "\n`load_boston` has been removed from scikit-learn since version 1.2.\n\nThe Boston housing prices dataset has an ethical problem: as\ninvestigated in [1], the authors of this dataset engineered a\nnon-invertible variable \"B\" assuming that racial self-segregation had a\npositive impact on house prices [2]. Furthermore the goal of the\nresearch that led to the creation of this dataset was to study the\nimpact of air quality but it did not give adequate demonstration of the\nvalidity of this assumption.\n\nThe scikit-learn maintainers therefore strongly discourage the use of\nthis dataset unless the purpose of the code is to study and educate\nabout ethical issues in data science and machine learning.\n\nIn this special case, you can fetch the dataset from the original\nsource::\n\n    import pandas as pd\n    import numpy as np\n\n    data_url = \"http://lib.stat.cmu.edu/datasets/boston\"\n    raw_df = pd.read_csv(data_url, sep=\"\\s+\", skiprows=22, header=None)\n    data = np.hstack([raw_df.values[::2, :], raw_df.values[1::2, :2]])\n    target = raw_df.values[1::2, 2]\n\nAlternative datasets include the California housing dataset and the\nAmes housing dataset. You can load the datasets as follows::\n\n    from sklearn.datasets import fetch_california_housing\n    housing = fetch_california_housing()\n\nfor the California housing dataset and::\n\n    from sklearn.datasets import fetch_openml\n    housing = fetch_openml(name=\"house_prices\", as_frame=True)\n\nfor the Ames housing dataset.\n\n[1] M Carlisle.\n\"Racist data destruction?\"\n<https://medium.com/@docintangible/racist-data-destruction-113e3eff54a8>\n\n[2] Harrison Jr, David, and Daniel L. Rubinfeld.\n\"Hedonic housing prices and the demand for clean air.\"\nJournal of environmental economics and management 5.1 (1978): 81-102.\n<https://www.researchgate.net/publication/4974606_Hedonic_housing_prices_and_the_demand_for_clean_air>\n",
          "traceback": [
            "\u001b[0;31m---------------------------------------------------------------------------\u001b[0m",
            "\u001b[0;31mImportError\u001b[0m                               Traceback (most recent call last)",
            "\u001b[0;32m<ipython-input-22-89013be35158>\u001b[0m in \u001b[0;36m<cell line: 6>\u001b[0;34m()\u001b[0m\n\u001b[1;32m      4\u001b[0m \u001b[0;32mimport\u001b[0m \u001b[0msklearn\u001b[0m\u001b[0;34m\u001b[0m\u001b[0;34m\u001b[0m\u001b[0m\n\u001b[1;32m      5\u001b[0m \u001b[0;34m\u001b[0m\u001b[0m\n\u001b[0;32m----> 6\u001b[0;31m \u001b[0;32mfrom\u001b[0m \u001b[0msklearn\u001b[0m\u001b[0;34m.\u001b[0m\u001b[0mdatasets\u001b[0m \u001b[0;32mimport\u001b[0m \u001b[0mload_digits\u001b[0m\u001b[0;34m,\u001b[0m \u001b[0mload_boston\u001b[0m\u001b[0;34m\u001b[0m\u001b[0;34m\u001b[0m\u001b[0m\n\u001b[0m\u001b[1;32m      7\u001b[0m \u001b[0;34m\u001b[0m\u001b[0m\n\u001b[1;32m      8\u001b[0m \u001b[0mdigits\u001b[0m \u001b[0;34m=\u001b[0m \u001b[0mload_digits\u001b[0m\u001b[0;34m(\u001b[0m\u001b[0;34m)\u001b[0m\u001b[0;34m\u001b[0m\u001b[0;34m\u001b[0m\u001b[0m\n",
            "\u001b[0;32m/usr/local/lib/python3.10/dist-packages/sklearn/datasets/__init__.py\u001b[0m in \u001b[0;36m__getattr__\u001b[0;34m(name)\u001b[0m\n\u001b[1;32m    154\u001b[0m             \"\"\"\n\u001b[1;32m    155\u001b[0m         )\n\u001b[0;32m--> 156\u001b[0;31m         \u001b[0;32mraise\u001b[0m \u001b[0mImportError\u001b[0m\u001b[0;34m(\u001b[0m\u001b[0mmsg\u001b[0m\u001b[0;34m)\u001b[0m\u001b[0;34m\u001b[0m\u001b[0;34m\u001b[0m\u001b[0m\n\u001b[0m\u001b[1;32m    157\u001b[0m     \u001b[0;32mtry\u001b[0m\u001b[0;34m:\u001b[0m\u001b[0;34m\u001b[0m\u001b[0;34m\u001b[0m\u001b[0m\n\u001b[1;32m    158\u001b[0m         \u001b[0;32mreturn\u001b[0m \u001b[0mglobals\u001b[0m\u001b[0;34m(\u001b[0m\u001b[0;34m)\u001b[0m\u001b[0;34m[\u001b[0m\u001b[0mname\u001b[0m\u001b[0;34m]\u001b[0m\u001b[0;34m\u001b[0m\u001b[0;34m\u001b[0m\u001b[0m\n",
            "\u001b[0;31mImportError\u001b[0m: \n`load_boston` has been removed from scikit-learn since version 1.2.\n\nThe Boston housing prices dataset has an ethical problem: as\ninvestigated in [1], the authors of this dataset engineered a\nnon-invertible variable \"B\" assuming that racial self-segregation had a\npositive impact on house prices [2]. Furthermore the goal of the\nresearch that led to the creation of this dataset was to study the\nimpact of air quality but it did not give adequate demonstration of the\nvalidity of this assumption.\n\nThe scikit-learn maintainers therefore strongly discourage the use of\nthis dataset unless the purpose of the code is to study and educate\nabout ethical issues in data science and machine learning.\n\nIn this special case, you can fetch the dataset from the original\nsource::\n\n    import pandas as pd\n    import numpy as np\n\n    data_url = \"http://lib.stat.cmu.edu/datasets/boston\"\n    raw_df = pd.read_csv(data_url, sep=\"\\s+\", skiprows=22, header=None)\n    data = np.hstack([raw_df.values[::2, :], raw_df.values[1::2, :2]])\n    target = raw_df.values[1::2, 2]\n\nAlternative datasets include the California housing dataset and the\nAmes housing dataset. You can load the datasets as follows::\n\n    from sklearn.datasets import fetch_california_housing\n    housing = fetch_california_housing()\n\nfor the California housing dataset and::\n\n    from sklearn.datasets import fetch_openml\n    housing = fetch_openml(name=\"house_prices\", as_frame=True)\n\nfor the Ames housing dataset.\n\n[1] M Carlisle.\n\"Racist data destruction?\"\n<https://medium.com/@docintangible/racist-data-destruction-113e3eff54a8>\n\n[2] Harrison Jr, David, and Daniel L. Rubinfeld.\n\"Hedonic housing prices and the demand for clean air.\"\nJournal of environmental economics and management 5.1 (1978): 81-102.\n<https://www.researchgate.net/publication/4974606_Hedonic_housing_prices_and_the_demand_for_clean_air>\n",
            "",
            "\u001b[0;31m---------------------------------------------------------------------------\u001b[0;32m\nNOTE: If your import is failing due to a missing package, you can\nmanually install dependencies using either !pip or !apt.\n\nTo view examples of installing some common dependencies, click the\n\"Open Examples\" button below.\n\u001b[0;31m---------------------------------------------------------------------------\u001b[0m\n"
          ],
          "errorDetails": {
            "actions": [
              {
                "action": "open_url",
                "actionText": "Open Examples",
                "url": "/notebooks/snippets/importing_libraries.ipynb"
              }
            ]
          }
        }
      ]
    },
    {
      "cell_type": "code",
      "source": [
        "from sklearn.neural_network import MLPClassifier\n",
        "\n",
        "mlp_classifier = MLPClassifier(random_state=123)\n",
        "mlp_classifier.fit(X_train, Y_train)\n",
        "\n",
        "MLPClassifier(activation = \"relu\", alpha = 0.0001, batch_size=\"auto\",\n",
        "              beta_1=0.9, beta_2=0.999, early_stopping=False, epsilon=1e-08,\n",
        "              hidden_layer_sizes=(100), learning_rate=\"constant\",\n",
        "              learning_rate_init=0.001, max_iter=200, momentum=0.9,\n",
        "              n_iter_no_change=10, nesterovs_momentum=True, power_t=0.5,\n",
        "              random_state=123, schuffle=True, solver=\"adam\", tol=0.0001,\n",
        "              validation_fraction=0.1, verbose=False, warm_start=False)\n",
        "\n",
        "Y_preds = mlp_classifier.predict(X_test)\n",
        "\n",
        "print(Y_preds[:15])\n",
        "print(Y_test[:15])\n",
        "\n",
        "print(\"Test Accuracy : %.3f\"%mlp_classifier.score(X_test, Y_test))\n",
        "print(\"Training Accuracy :  %.3f\"%mlp_classifier.score(X_train, Y_train))"
      ],
      "metadata": {
        "id": "FdpanORkHFkB"
      },
      "execution_count": null,
      "outputs": []
    },
    {
      "cell_type": "code",
      "source": [
        "from sklearn.metrics import confusion_matrix\n",
        "\n",
        "def plot_confusion_matrix(Y_train, Y_preds):\n",
        "  conf_mat = confusion_matrix(Y_test, Y_preds)\n",
        "  fig = plt.figure(figsize=(6,6))\n",
        "  plt.matshow(conf_mat, cmap = plt.cm.Blues, fignum=1)\n",
        "  plt.yticks(range(10), range(10))\n",
        "  plt.xticks(range(10), range(10))\n",
        "  plt.colorbar();\n",
        "  for i in range(10):\n",
        "    for j in range(10):\n",
        "      plt.text(i-0.2, j+0.1, str(conf_mat[j, i]), color = \"tab:red\")\n",
        "\n",
        "  plot_confusion_matrix(Y_test, mlp_classifier.predict(X_test))\n",
        "\n",
        "print(\"Loss : \", mlp_classifier.loss_)\n",
        "print(\"Number of Coefs : \", len(mlp_classifier.coefs_))\n",
        "print(\"Number of Intercepts : \", len(mlp_classifier.intercepts_))\n",
        "print(\"Number of Iterations for Which Estimatior Ran : \", mlp_classifier.n_iter_)\n",
        "print(\"Name of Output Layer Activation Function : \", mlp_classifier.out_activation_)"
      ],
      "metadata": {
        "id": "cIlqkBPNL8RG"
      },
      "execution_count": null,
      "outputs": []
    },
    {
      "cell_type": "code",
      "source": [
        "X_train, X_test, Y_train, Y_test = train_test_split(X_boston, Y_boston, train_size=0.8,\n",
        "                                                    test_size = 0.2, random_state=123)\n",
        "print(\"Train/Test Sizes : \", X_train.shape, X_test.shape, Y_train.shape, Y_test.shape)"
      ],
      "metadata": {
        "id": "qUvXn8jUOavc"
      },
      "execution_count": null,
      "outputs": []
    },
    {
      "cell_type": "code",
      "source": [
        "from sklearn.neural_network import MLPRegressor\n",
        "\n",
        "mlp_regressor = MLPRegressor(random_state=123)\n",
        "mlp_regressor.fit(X_train, Y_trrain)\n",
        "MLPRegressor(activation=\"relu\", alpha=0.0001, batch_size=\"auto\", beta_1=0.9,\n",
        "             beta_2=0.999, early_stopping=False, epsilon = 1e-08,\n",
        "             hidden_layer_sizes = (100,), learning_rate=\"constant\",\n",
        "             learning_rate_init=0.001, max_iter=200, momentum =0.9,\n",
        "             n_iter_no_change=10, nesterovs_momentum=True, power_t=0.5,\n",
        "             random_state=123, schuffle=True, solver=\"adam\", tol=0.0001,\n",
        "             validation_fraction=0.1, verbose=False, warm_start=False)\n",
        "\n",
        "Y_preds = mlp_regressor.predict(X_test)\n",
        "\n",
        "print(Y_preds[:10])\n",
        "print(Y_test[:10])\n",
        "\n",
        "print(\"Test R^2 Score : %.3f\"%mlp_regressor.score(X_test, Y_test))\n",
        "print(\"Trainig R^2 Score : %.3f\"%mlp_regressor.score(X_train, Y_train))\n",
        "\n",
        "print(\"Loss : \", mlp_regressor.loss_)\n",
        "print(\"Number of Coefs : \", len(mlp_regressor.coefs_))\n",
        "[weights.shape for weights in mlp_regressor.coefs_]\n",
        "\n",
        "print(\"Number of Iterations for Which Estimator Ran : \", mlp_regressor.n_iter_)\n",
        "\n",
        "print(\"Number of Output Layer Activation Function : \", mlp_regressor.out_activasion_)"
      ],
      "metadata": {
        "colab": {
          "base_uri": "https://localhost:8080/",
          "height": 211
        },
        "collapsed": true,
        "id": "tmMjOG_5PEaf",
        "outputId": "d95b28c7-f95c-4020-a4c4-54f76b819330"
      },
      "execution_count": null,
      "outputs": [
        {
          "output_type": "error",
          "ename": "NameError",
          "evalue": "name 'X_train' is not defined",
          "traceback": [
            "\u001b[0;31m---------------------------------------------------------------------------\u001b[0m",
            "\u001b[0;31mNameError\u001b[0m                                 Traceback (most recent call last)",
            "\u001b[0;32m<ipython-input-23-ad1c4526f054>\u001b[0m in \u001b[0;36m<cell line: 4>\u001b[0;34m()\u001b[0m\n\u001b[1;32m      2\u001b[0m \u001b[0;34m\u001b[0m\u001b[0m\n\u001b[1;32m      3\u001b[0m \u001b[0mmlp_regressor\u001b[0m \u001b[0;34m=\u001b[0m \u001b[0mMLPRegressor\u001b[0m\u001b[0;34m(\u001b[0m\u001b[0mrandom_state\u001b[0m\u001b[0;34m=\u001b[0m\u001b[0;36m123\u001b[0m\u001b[0;34m)\u001b[0m\u001b[0;34m\u001b[0m\u001b[0;34m\u001b[0m\u001b[0m\n\u001b[0;32m----> 4\u001b[0;31m \u001b[0mmlp_regressor\u001b[0m\u001b[0;34m.\u001b[0m\u001b[0mfit\u001b[0m\u001b[0;34m(\u001b[0m\u001b[0mX_train\u001b[0m\u001b[0;34m,\u001b[0m \u001b[0mY_trrain\u001b[0m\u001b[0;34m)\u001b[0m\u001b[0;34m\u001b[0m\u001b[0;34m\u001b[0m\u001b[0m\n\u001b[0m\u001b[1;32m      5\u001b[0m MLPRegressor(activation=\"relu\", alpha=0.0001, batch_size=\"auto\", beta_1=0.9,\n\u001b[1;32m      6\u001b[0m              \u001b[0mbeta_2\u001b[0m\u001b[0;34m=\u001b[0m\u001b[0;36m0.999\u001b[0m\u001b[0;34m,\u001b[0m \u001b[0mearly_stopping\u001b[0m\u001b[0;34m=\u001b[0m\u001b[0;32mFalse\u001b[0m\u001b[0;34m,\u001b[0m \u001b[0mepsilon\u001b[0m \u001b[0;34m=\u001b[0m \u001b[0;36m1e-08\u001b[0m\u001b[0;34m,\u001b[0m\u001b[0;34m\u001b[0m\u001b[0;34m\u001b[0m\u001b[0m\n",
            "\u001b[0;31mNameError\u001b[0m: name 'X_train' is not defined"
          ]
        }
      ]
    },
    {
      "cell_type": "markdown",
      "source": [
        "Задание 1.2.2"
      ],
      "metadata": {
        "id": "SiLAu-XWTZf3"
      }
    },
    {
      "cell_type": "code",
      "source": [
        "import pandas as pd\n",
        "from sklearn.model_selection import train_test_split\n",
        "url = 'https://gist.githubusercontent.com/netj/8836201/raw/6f9306ad21398ea43cba4f7d537619d0e07d5ae3/iris.csv'\n",
        "df = pd.read_csv(url)\n",
        "df.head(5)\n",
        "print(df)\n",
        "df = df.rename(columns={'variety': 'target'})\n",
        "X_df, Y_df = df.drop(['target'], axis=1), df.target\n",
        "print('Dataset Size: ', X_df.shape, Y_df.shape)\n",
        "\n",
        "X_train, X_test, Y_train, Y_test = train_test_split(X_df, Y_df, train_size=0.80, test_size=0.20, stratify=Y_df, random_state=123)\n",
        "print(X_train.shape, X_test.shape, Y_train.shape, Y_test.shape)\n",
        "from sklearn.neural_network import MLPClassifier\n",
        "\n",
        "mlp_classifier = MLPClassifier(random_state=123)\n",
        "mlp_classifier.fit(X_train, Y_train)\n",
        "\n",
        "Y_preds = mlp_classifier.predict(X_test)\n",
        "\n",
        "print(Y_preds[:15])\n",
        "print(Y_test[:15])\n",
        "\n",
        "print('Test Accuracy: %.3f' % mlp_classifier.score(X_test, Y_test))\n",
        "print('Training Accuracy: %.3f' % mlp_classifier.score(X_train, Y_train))\n",
        "\n",
        "print('Loss: ', mlp_classifier.loss_)\n",
        "print('Number of Coefs: ', len(mlp_classifier.coefs_))\n",
        "print('Number of Intercepts: ', len(mlp_classifier.intercepts_))\n",
        "print('Number of Iteration for Which Estimator Ran: ', mlp_classifier.n_iter_)\n",
        "print('Name of Output Layer Activation Function: ', mlp_classifier.out_activation_)"
      ],
      "metadata": {
        "id": "m_bo-Tm7TbxJ"
      },
      "execution_count": null,
      "outputs": []
    },
    {
      "cell_type": "code",
      "source": [
        "url = 'https://raw.githubusercontent.com/AnnaShestova/salary-years-simple-linear-regression/master/Salary_Data.csv'\n",
        "df = pd.read_csv(url)\n",
        "df.head(5)\n",
        "print(df)\n",
        "df = df.rename(columns={'Salary':'target'})\n",
        "X_df, Y_df = df.drop(['target'], axis=1), df.target\n",
        "print ('Dataset Size: ', X_df.shape, Y_df.shape)\n",
        "\n",
        "X_train, X_test, Y_train, Y_test = train_test_split(X_df, Y_df, train_size = 0.80, test_size = 0.20, random_state = 123)\n",
        "print ('Train/Test size: ', X_train.shape, X_test.shape, Y_train.shape, Y_test.shape)\n",
        "from sklearn.neural_network import MLPRegressor\n",
        "\n",
        "mlp_regressor = MLPRegressor(random_state=123)\n",
        "mlp_regressor.fit(X_train, Y_train)\n",
        "\n",
        "Y_preds = mlp_regressor.predict(X_test)\n",
        "\n",
        "print (Y_preds[:10])\n",
        "print (Y_test[:10])\n",
        "print ('Test R^2 Score: %.3f'%mlp_regressor.score(X_test, Y_test))\n",
        "print ('Training R^2 Score: %.3f'%mlp_regressor.score(X_train, Y_train))\n",
        "\n",
        "print ('Loss: ', mlp_regressor.loss_)\n",
        "print ('Number of Coefs: ', len(mlp_regressor.coefs_))\n",
        "print ('Number of Intercepts: ', len(mlp_regressor.intercepts_))\n",
        "print ('Number of Iteration for Which Estimator Ran: ', mlp_regressor.n_iter_)\n",
        "print ('Name of Output Layer Activation Function: ', mlp_regressor.out_activation_)"
      ],
      "metadata": {
        "id": "e7pj1VSVVoxr"
      },
      "execution_count": null,
      "outputs": []
    }
  ]
}