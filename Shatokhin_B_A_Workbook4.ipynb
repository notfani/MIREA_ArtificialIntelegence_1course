{
  "nbformat": 4,
  "nbformat_minor": 0,
  "metadata": {
    "colab": {
      "provenance": []
    },
    "kernelspec": {
      "name": "python3",
      "display_name": "Python 3"
    },
    "language_info": {
      "name": "python"
    }
  },
  "cells": [
    {
      "cell_type": "markdown",
      "source": [
        "Задание 1.1.1"
      ],
      "metadata": {
        "id": "0dJa3XKBF8vC"
      }
    },
    {
      "cell_type": "code",
      "execution_count": null,
      "metadata": {
        "id": "9OMZa2AhEcsq"
      },
      "outputs": [],
      "source": [
        "import numpy as np\n",
        "import matplotlib.pyplot as plt\n",
        "\n",
        "x = np.array([0,1,2,3])\n",
        "y = np.array([-1,0.2,0.9,2.1])\n",
        "\n",
        "A = np.vstack([x, np.ones(len(x))]).T\n",
        "A\n",
        "m, c = np.linalg.lstsq(A, y, rcond = None)[0]\n",
        "print(m,c)\n",
        "\n",
        "plt.plot(x,y,\"o\", label = \"Исходные данные\", markersize = 10)\n",
        "plt.plot(x,m*x + c,\"r\", label = \"Линейная экстраполяция\")\n",
        "plt.legend()\n",
        "plt.show()"
      ]
    },
    {
      "cell_type": "markdown",
      "source": [
        "Задание 1.1.2"
      ],
      "metadata": {
        "id": "3hKCmxrcLQkz"
      }
    },
    {
      "cell_type": "code",
      "source": [
        "from numpy import *\n",
        "from numpy.random import *\n",
        "\n",
        "delta = 1.0\n",
        "x = linspace(-5,5,11)\n",
        "y = x**2 + delta*(rand(11)-0.5)\n",
        "x += delta*(rand(11)-0.5)\n",
        "\n",
        "x.tofile(\"x_data.txt\", \"\\n\")\n",
        "y.tofile(\"y_data.txt\", \"\\n\")\n",
        "x = fromfile(\"x_data.txt\", float, sep=\"\\n\")\n",
        "y = fromfile(\"y_data.txt\", float, sep=\"\\n\")\n",
        "\n",
        "print(x)\n",
        "print(y)\n",
        "\n",
        "m = vstack((x**2, x, ones(11))).T\n",
        "s = np.linalg.lstsq(m, y, rcond = None)[0]\n",
        "x_prec = linspace(-5,5,101)\n",
        "plt.plot(x,y,\"D\")\n",
        "plt.plot(x_prec, s[0] * x_prec**2 + s[1] * x_prec+s[2], \"-\", lw=2)\n",
        "plt.grid()\n",
        "plt.savefig(\"парабола.png\")"
      ],
      "metadata": {
        "id": "YfYMD5C6Lc5f"
      },
      "execution_count": null,
      "outputs": []
    },
    {
      "cell_type": "markdown",
      "source": [
        "Задание 1.1.3"
      ],
      "metadata": {
        "id": "q9gBiQh5NijL"
      }
    },
    {
      "cell_type": "code",
      "source": [
        "m = vstack((x**3,x**2, x, ones(11))).T\n",
        "s = np.linalg.lstsq(m,y,rcond = None)[0]\n",
        "\n",
        "x_prec = linspace(-5,5,101)\n",
        "plt.plot(x,y,\"D\")\n",
        "plt.plot(x_prec, s[0] * x_prec**3 + s[1]*x_prec**2 + s[2]*x_prec + s[3], \"-\", lw = 3)\n",
        "plt.grid()\n",
        "plt.savefig(\"полином 3-й степени.png\")"
      ],
      "metadata": {
        "id": "Ec9iYZLlNlWb"
      },
      "execution_count": null,
      "outputs": []
    },
    {
      "cell_type": "markdown",
      "source": [
        "Задание 1.1.4"
      ],
      "metadata": {
        "id": "uC1t-cRtOm2z"
      }
    },
    {
      "cell_type": "code",
      "source": [
        "import scipy as sp\n",
        "beta = (0.25, 0.75, 0.5)\n",
        "def f(x, b0, b1, b2):\n",
        "  return b0 + b1*np.exp(-b2*x**2)\n",
        "\n",
        "xdata = np.linspace(0, 5, 50)\n",
        "y = f(xdata, *beta)\n",
        "ydata = y + 0.05*np.random.randn(len(xdata))\n",
        "\n",
        "from scipy.optimize import curve_fit\n",
        "beta_opt, beta_cov = sp.optimize.curve_fit(f, xdata, ydata)\n",
        "beta_opt\n",
        "lin_dev = sum(beta_cov[0])\n",
        "print(lin_dev)\n",
        "\n",
        "residuals = ydata - f(xdata, *beta_opt)\n",
        "fres = sum(residuals**2)\n",
        "print(fres)\n",
        "\n",
        "fig, ax = plt.subplots()\n",
        "ax.scatter(xdata, ydata)\n",
        "ax.plot(xdata, y, \"r\", lw=2)\n",
        "ax.plot(xdata, f(xdata, *beta_opt), \"b\", lw=2)\n",
        "ax.set_xlim(0,5)\n",
        "ax.set_xlabel(r\"$x$\", fontsize=18)\n",
        "ax.set_ylabel(r\"$f(x, \\beta)$\", fontsize = 18)\n",
        "plt.show()\n",
        "print(xdata)\n",
        "print(ydata)"
      ],
      "metadata": {
        "id": "Q9__TE9wOphy"
      },
      "execution_count": null,
      "outputs": []
    },
    {
      "cell_type": "markdown",
      "source": [
        "Задание 1.1.5"
      ],
      "metadata": {
        "id": "3lI9uOJBSBM0"
      }
    },
    {
      "cell_type": "code",
      "source": [
        "beta = (0.25 , 0.75)\n",
        "def f(x,b0,b1):\n",
        "  return b0 + b1*x\n",
        "xdata = np.linspace(0, 5, 50)\n",
        "y = f(xdata, *beta)\n",
        "\n",
        "ydata = y+0.05*np.random.randn(len(xdata))\n",
        "beta_opt, beta_cov = sp.optimize.curve_fit(f, xdata, ydata)\n",
        "print(beta_opt)\n",
        "lin_dev = sum(beta_cov[0])\n",
        "print(lin_dev)\n",
        "\n",
        "residuals = ydata - f(xdata, *beta_opt)\n",
        "fres = sum(residuals**2)\n",
        "print(fres)\n",
        "\n",
        "fig, ax = plt.subplots()\n",
        "ax.scatter(xdata, ydata)\n",
        "ax.plot(xdata, y, 'r', lw=2)\n",
        "ax.plot(xdata, f(xdata, *beta_opt), 'b', lw=2)\n",
        "ax.set_xlim(0, 5)\n",
        "ax.set_xlabel(r\"$x$\", fontsize = 22)\n",
        "ax.set_ylabel(r\"$f(x, \\beta)$ = b0 + b1x\", fontsize = 22)\n",
        "plt.show()"
      ],
      "metadata": {
        "id": "rZPwRwnPSGti"
      },
      "execution_count": null,
      "outputs": []
    },
    {
      "cell_type": "code",
      "source": [
        "beta = (0.25 , 0.75, 0.5)\n",
        "def f(x,b0,b1,b2):\n",
        "  return b0 + b1*x + b2*x*x\n",
        "xdata = np.linspace(0, 5, 50)\n",
        "y = f(xdata, *beta)\n",
        "\n",
        "ydata = y+0.05*np.random.randn(len(xdata))\n",
        "beta_opt, beta_cov = sp.optimize.curve_fit(f, xdata, ydata)\n",
        "print(beta_opt)\n",
        "lin_dev = sum(beta_cov[0])\n",
        "print(lin_dev)\n",
        "\n",
        "residuals = ydata - f(xdata, *beta_opt)\n",
        "fres = sum(residuals**2)\n",
        "print(fres)\n",
        "\n",
        "fig, ax = plt.subplots()\n",
        "ax.scatter(xdata, ydata)\n",
        "ax.plot(xdata, y, 'r', lw=2)\n",
        "ax.plot(xdata, f(xdata, *beta_opt), 'b', lw=2)\n",
        "ax.set_xlim(0, 5)\n",
        "ax.set_xlabel(r\"$x$\", fontsize = 18)\n",
        "ax.set_ylabel(r\"$f(x, \\beta)$ = b0 + b1x + b2*x^2\", fontsize = 18)\n",
        "plt.show()"
      ],
      "metadata": {
        "id": "8-G_UmASeQ2D"
      },
      "execution_count": null,
      "outputs": []
    },
    {
      "cell_type": "code",
      "source": [
        "beta = (1 , 2)\n",
        "def f(x,b0,b1):\n",
        "  return b0 + b1* np.log(x)\n",
        "xdata = np.linspace(1, 5, 50)\n",
        "y = f(xdata, *beta)\n",
        "\n",
        "ydata = y+0.05*np.random.randn(len(xdata))\n",
        "beta_opt, beta_cov = sp.optimize.curve_fit(f, xdata, ydata)\n",
        "print(beta_opt)\n",
        "lin_dev = sum(beta_cov[0])\n",
        "print(lin_dev)\n",
        "\n",
        "residuals = ydata - f(xdata, *beta_opt)\n",
        "fres = sum(residuals**2)\n",
        "print(fres)\n",
        "\n",
        "fig, ax = plt.subplots()\n",
        "ax.scatter(xdata, ydata)\n",
        "ax.plot(xdata, y, 'r', lw=2)\n",
        "ax.plot(xdata, f(xdata, *beta_opt), 'b', lw=2)\n",
        "ax.set_xlim(0, 5)\n",
        "ax.set_xlabel(r\"$x$\", fontsize = 22)\n",
        "ax.set_ylabel(r\"$f(x, \\beta)$ = b0 + b1*ln(x)\", fontsize = 22)\n",
        "plt.show()"
      ],
      "metadata": {
        "id": "8IMgtNJueYMS"
      },
      "execution_count": null,
      "outputs": []
    },
    {
      "cell_type": "code",
      "source": [
        "beta = (1 , 2)\n",
        "def f(x,b0,b1):\n",
        "  return b0 * x **b1\n",
        "xdata = np.linspace(1, 5, 50)\n",
        "y = f(xdata, *beta)\n",
        "\n",
        "ydata = y+0.05*np.random.randn(len(xdata))\n",
        "beta_opt, beta_cov = sp.optimize.curve_fit(f, xdata, ydata)\n",
        "print(beta_opt)\n",
        "lin_dev = sum(beta_cov[0])\n",
        "print(lin_dev)\n",
        "\n",
        "residuals = ydata - f(xdata, *beta_opt)\n",
        "fres = sum(residuals**2)\n",
        "print(fres)\n",
        "\n",
        "fig, ax = plt.subplots()\n",
        "ax.scatter(xdata, ydata)\n",
        "ax.plot(xdata, y, 'r', lw=2)\n",
        "ax.plot(xdata, f(xdata, *beta_opt), 'b', lw=2)\n",
        "ax.set_xlim(0, 5)\n",
        "ax.set_xlabel(r\"$x$\", fontsize = 22)\n",
        "ax.set_ylabel(r\"$f(x, \\beta)$ = b0 + x^b1\", fontsize = 22)\n",
        "plt.show()"
      ],
      "metadata": {
        "id": "x5D32OmEeeq5"
      },
      "execution_count": null,
      "outputs": []
    },
    {
      "cell_type": "markdown",
      "source": [
        "Задание 1.2.1"
      ],
      "metadata": {
        "id": "xr-DHzZlZqk-"
      }
    },
    {
      "cell_type": "code",
      "source": [
        "import pandas as pd\n",
        "import numpy as np\n",
        "import matplotlib.pyplot as plt\n",
        "from pandas import DataFrame,Series\n",
        "from sklearn.model_selection import train_test_split\n",
        "from sklearn.linear_model import LinearRegression\n",
        "\n",
        "my_dict = {'Учебное время':[0.50,0.75,1.00,1.25,1.50,1.75,1.75,2.00,2.25,2.50,2.75,3.00,3.25,3.50,4.00,4.25,4.50,4.75,5.00,5.50],\n",
        "           'Оценка': [8,9,10,22,13,43,20,22,33,50,62,48,55,75,62,73,81,82,90,93]}\n",
        "dataset = pd.DataFrame(my_dict)\n",
        "dataset.head()\n",
        "print(dataset.shape)\n",
        "dataset.describe()\n",
        "\n",
        "plt.scatter (dataset['Учебное время'], dataset['Оценка'], color = 'b', label = 'Данные экзамена')\n",
        "plt.xlabel('Часы')\n",
        "plt.ylabel('Оценка')\n",
        "plt.show()\n",
        "\n",
        "x = dataset.iloc[:,:-1].values\n",
        "y = dataset.iloc[:,1].values\n",
        "print(x)\n",
        "print(y)\n",
        "\n",
        "x_train,x_test,y_train,y_test = train_test_split(x,y,test_size = 0.2, random_state = 0)\n",
        "regressor = LinearRegression()\n",
        "regressor.fit(x_train,y_train)\n",
        "\n",
        "print(regressor.intercept_)\n",
        "print(regressor.coef_)\n",
        "\n",
        "y_pred = regressor.predict(x_test)\n",
        "df = pd.DataFrame({'Actual': y_test, 'Predicted': y_pred})\n",
        "print()\n",
        "print(df)\n",
        "\n",
        "df.plot(kind='bar')\n",
        "plt.grid(which= 'major', linestyle='-', linewidth='0.5', color='green')\n",
        "plt.grid(which= 'minor', linestyle=':', linewidth='0.5', color='black')\n",
        "plt.show()\n",
        "\n",
        "plt.scatter(x_test, y_test, color='gray')\n",
        "plt.plot(x_test, y_pred, color='red', linewidth=2)\n",
        "plt.show()"
      ],
      "metadata": {
        "id": "-6NjWgnyZtjO"
      },
      "execution_count": null,
      "outputs": []
    },
    {
      "cell_type": "markdown",
      "source": [
        "Задание 1.2.2"
      ],
      "metadata": {
        "id": "umT51iZTz2Md"
      }
    },
    {
      "cell_type": "code",
      "source": [
        "my_dict = {'Стаж работы(в годах)':[1.10,1.30,1.50,2.00,2.20,2.90,3.00,3.20,3.20,3.70,3.90,4.00,4.00,4.10,4.50,4.90,5.10,5.30],\n",
        "           'Зарплата': [39343.00,46205.00,37731.00,43525.00,39891.00,39891.00,56642.00,60150.00,54445.00,64445.00,57189.00,63218.00,55794.00,56957.00,57081.00,61111.00,67938.00,66029.00]}\n",
        "dataset = pd.DataFrame(my_dict)\n",
        "dataset.head()\n",
        "print(dataset.shape)\n",
        "dataset.describe()\n",
        "\n",
        "plt.scatter (dataset['Стаж работы(в годах)'], dataset['Зарплата'], color = 'b', label = 'Статистика')\n",
        "plt.xlabel('Стаж работы(в годах)')\n",
        "plt.ylabel('Зарплата')\n",
        "plt.show()\n",
        "\n",
        "x = dataset.iloc[:,:-1].values\n",
        "y = dataset.iloc[:,1].values\n",
        "print(x)\n",
        "print(y)\n",
        "\n",
        "x_train,x_test,y_train,y_test = train_test_split(x,y,test_size = 0.2, random_state = 0)\n",
        "regressor = LinearRegression()\n",
        "regressor.fit(x_train,y_train)\n",
        "\n",
        "print(regressor.intercept_)\n",
        "print(regressor.coef_)\n",
        "\n",
        "y_pred = regressor.predict(x_test)\n",
        "df = pd.DataFrame({'Actual': y_test, 'Predicted': y_pred})\n",
        "print()\n",
        "print(df)\n",
        "\n",
        "df.plot(kind='bar')\n",
        "plt.grid(which= 'major', linestyle='-', linewidth='0.5', color='green')\n",
        "plt.grid(which= 'minor', linestyle=':', linewidth='0.5', color='black')\n",
        "plt.show()\n",
        "\n",
        "plt.scatter(x_test, y_test, color='gray')\n",
        "plt.plot(x_test, y_pred, color='red', linewidth=2)\n",
        "plt.show()"
      ],
      "metadata": {
        "id": "TECJO7Dnz6EJ"
      },
      "execution_count": null,
      "outputs": []
    },
    {
      "cell_type": "markdown",
      "source": [
        "Задание 1.3.1"
      ],
      "metadata": {
        "id": "JsLP5v1Gz6X2"
      }
    },
    {
      "cell_type": "code",
      "source": [
        "import numpy as np\n",
        "\n",
        "y = [1,2,3,4,3,4,5,3,5,5,4,5,4,5,4,5,6,0,6,3,1,3,1]\n",
        "X = [[0,2,4,1,5,4,5,9,9,9,3,7,8,8,6,6,5,5,5,6,6,5,5],\n",
        "     [4,1,2,3,4,5,6,7,5,8,7,8,7,8,7,8,6,8,9,2,1,5,6],\n",
        "     [4,1,2,5,6,7,8,9,7,8,7,8,7,4,3,1,2,3,4,1,3,9,7]]\n",
        "\n",
        "X = np.transpose(X)\n",
        "X = np.c_[X, np.ones(X.shape[0])]\n",
        "linreg = np.linalg.lstsq(X, y, rcond = None)[0]\n",
        "print(linreg)"
      ],
      "metadata": {
        "colab": {
          "base_uri": "https://localhost:8080/"
        },
        "id": "5Z1zZVQiz9jq",
        "outputId": "47cbb221-dc33-443a-dff6-48d520483567"
      },
      "execution_count": null,
      "outputs": [
        {
          "output_type": "stream",
          "name": "stdout",
          "text": [
            "[ 0.1338682   0.26840334 -0.02874936  1.5122571 ]\n"
          ]
        }
      ]
    },
    {
      "cell_type": "markdown",
      "source": [
        " Задание 1.3.2"
      ],
      "metadata": {
        "id": "A9CDyh8T1Zsf"
      }
    },
    {
      "cell_type": "code",
      "source": [
        "import matplotlib.pyplot as plt\n",
        "import seaborn as seabornInstance\n",
        "from sklearn.model_selection import train_test_split\n",
        "from sklearn.linear_model import LinearRegression\n",
        "from sklearn import metrics\n",
        "\n",
        "y=[1,2,3,4,3,4,5,3,5,5,4,5,4,5,4,5,6,0,6,3,1,3,1]\n",
        "x=[[0,2,4,1,5,4,5,9,9,9,3,7,8,8,6,6,5,5,5,6,6,5,5],\n",
        "   [4,1,2,3,4,5,6,7,5,8,7,8,7,8,7,8,6,8,9,2,1,5,6],\n",
        "   [4,1,2,5,6,7,8,9,7,8,7,8,7,4,3,1,2,3,4,1,3,9,7]]\n",
        "\n",
        "new_y = np.array(y)\n",
        "new_y = new_y.transpose()\n",
        "df1 = pd.DataFrame(new_y)\n",
        "new_x = np.array(x)\n",
        "new_x = new_x.transpose()\n",
        "df2 = pd.DataFrame(new_x)\n",
        "df1 = df1.rename(columns = {0:'y'}, inplace = False)\n",
        "df2 = df2.rename (columns = {0: 'x1', 1: 'x2', 2: 'x3'},inplace = False)\n",
        "\n",
        "frames = [df1,df2]\n",
        "dataset = pd.concat([df1, df2], axis=1, join=\"inner\")\n",
        "dataset.head()\n",
        "\n",
        "print(dataset.shape)\n",
        "dataset.describe()\n",
        "x = dataset[['x1', 'x2', 'x3']]\n",
        "y = dataset['y']\n",
        "print(dataset)\n",
        "x_train, x_test, y_train, y_test = train_test_split(x, y, test_size = 0.2, random_state = 0)\n",
        "regressor.fit(x_train, y_train)\n",
        "coeff_df = pd.DataFrame(regressor.coef_, x.columns, columns=['Coefficient'])\n",
        "print(coeff_df)\n",
        "y_pred = regressor.predict(x_test)\n",
        "df = pd.DataFrame({'Actual': y_test, 'Predicted': y_pred})\n",
        "print(df)\n",
        "print('Mean Squared Error:', metrics.mean_squared_error(y_test, y_pred))"
      ],
      "metadata": {
        "id": "aQdccb7k1cHg"
      },
      "execution_count": null,
      "outputs": []
    },
    {
      "cell_type": "markdown",
      "source": [
        "Задание 1.3.3"
      ],
      "metadata": {
        "id": "czHkz-5J43RW"
      }
    },
    {
      "cell_type": "code",
      "source": [
        "import numpy as np\n",
        "import pandas as pd\n",
        "from sklearn.linear_model import LinearRegression\n",
        "from sklearn.model_selection import train_test_split\n",
        "from sklearn import metrics\n",
        "\n",
        "url = r\"https://raw.githubusercontent.com/likarajo/petrol_consumption/master/data/petrol_consumption.csv\"\n",
        "\n",
        "dataframe_raw = pd.read_csv(url, on_bad_lines='skip')\n",
        "\n",
        "petrol_tax = dataframe_raw.iloc[:, 0].values\n",
        "avg_income = dataframe_raw.iloc[:, 1].values\n",
        "paved_highways = dataframe_raw.iloc[:, 2].values\n",
        "pop_driver_license = dataframe_raw.iloc[:, 3].values\n",
        "petrol_consumption = dataframe_raw.iloc[:, 4].values\n",
        "\n",
        "df_pt = pd.DataFrame(np.array(petrol_tax).transpose())\n",
        "df_ai = pd.DataFrame(np.array(avg_income).transpose())\n",
        "df_ph = pd.DataFrame(np.array(paved_highways).transpose())\n",
        "df_pdl = pd.DataFrame(np.array(pop_driver_license).transpose())\n",
        "df_pc = pd.DataFrame(np.array(petrol_consumption).transpose())\n",
        "\n",
        "df_pt = df_pt.rename(columns={0: 'Petrol tax'}, inplace=False)\n",
        "df_ai = df_ai.rename(columns={0: 'Average income'}, inplace=False)\n",
        "df_ph = df_ph.rename(columns={0: 'Paved Highways'}, inplace=False)\n",
        "df_pdl = df_pdl.rename(columns={0: 'Population Driver licence'}, inplace=False)\n",
        "df_pc = df_pc.rename(columns={0: 'Petrol Consumption'}, inplace=False)\n",
        "\n",
        "frames = [df_pt, df_ai, df_ph, df_pdl, df_pc]\n",
        "dataset = pd.concat(frames, axis=1, join=\"inner\")\n",
        "dataset\n",
        "\n",
        "x = dataset[['Petrol tax', 'Average income', 'Paved Highways', 'Population Driver licence']]\n",
        "y = dataset['Petrol Consumption']\n",
        "\n",
        "x_train, x_test, y_train, y_test = train_test_split(x, y, test_size=0.5, random_state=0)\n",
        "\n",
        "regressor = LinearRegression()\n",
        "regressor.fit(x_train, y_train)\n",
        "\n",
        "coefficient_df = pd.DataFrame(regressor.coef_, x.columns, columns=['Coefficient'])\n",
        "y_pred = regressor.predict(x_test)\n",
        "df = pd.DataFrame({'Actual': y_test, 'Predict': y_pred})\n",
        "\n",
        "print('Mean Squared Error: ', metrics.mean_squared_error(y_test, y_pred))\n",
        "\n",
        "df\n",
        "df = pd.DataFrame({'Actual': y_test, 'Predicted': y_pred})\n",
        "df.plot(kind='bar')\n",
        "df"
      ],
      "metadata": {
        "id": "bUFb2eXH46_O"
      },
      "execution_count": null,
      "outputs": []
    },
    {
      "cell_type": "markdown",
      "source": [
        "Задание 1.3.3* вариант 3\n"
      ],
      "metadata": {
        "id": "m6HdbdAL47LR"
      }
    },
    {
      "cell_type": "code",
      "source": [
        "import matplotlib.pyplot as plt\n",
        "\n",
        "x = np.array([3.0, 3.2, 3.4, 3.6, 3.8, 4.0])\n",
        "y = np.array([2.0, 3.0, 3.0, 3.0, 2.0, 4.0])\n",
        "A = np.vstack([x, np.ones(len(x))]).T\n",
        "print(A)\n",
        "m, c = np.linalg.lstsq(A, y, rcond=None)[0]\n",
        "print(m, c)\n",
        "\n",
        "plt.plot(x, y, 'o', label='Исходные данные', markersize=5)\n",
        "plt.plot(x, m * x + c, 'r', label='Линейная экстраполяция')\n",
        "plt.legend()\n",
        "plt.show()\n",
        "\n",
        "m = np.vstack((x ** 2, x, np.ones(6))).T\n",
        "s = np.linalg.lstsq(m, y, rcond=None)[0]\n",
        "print(s)\n",
        "\n",
        "x_prec = np.linspace(1, 5, 11)\n",
        "plt.plot(x, y, 'D')\n",
        "plt.plot(x_prec, s[0] * x_prec ** 2 + s[1] * x_prec + s[2], '-', lw = 2)\n",
        "plt.grid()"
      ],
      "metadata": {
        "id": "4ywtm_px4-Oy"
      },
      "execution_count": null,
      "outputs": []
    }
  ]
}