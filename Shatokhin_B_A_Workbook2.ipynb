{
  "nbformat": 4,
  "nbformat_minor": 0,
  "metadata": {
    "colab": {
      "provenance": []
    },
    "kernelspec": {
      "name": "python3",
      "display_name": "Python 3"
    },
    "language_info": {
      "name": "python"
    }
  },
  "cells": [
    {
      "cell_type": "markdown",
      "source": [
        "Задание 1.2.1"
      ],
      "metadata": {
        "id": "sLi3VRvSP-zf"
      }
    },
    {
      "cell_type": "code",
      "source": [
        "import numpy as np\n",
        "\n",
        "x = np.array([[1,2], [3,4], [5,6], [7,8], [9,10]])\n",
        "print(x)\n",
        "print(x[3][1])\n",
        "print(x[1])"
      ],
      "metadata": {
        "colab": {
          "base_uri": "https://localhost:8080/"
        },
        "id": "E-AUvqurQCns",
        "outputId": "66d25858-8b7d-4044-cc39-b790cc34be8b"
      },
      "execution_count": null,
      "outputs": [
        {
          "output_type": "stream",
          "name": "stdout",
          "text": [
            "[[0 1]\n",
            " [2 3]\n",
            " [4 5]\n",
            " [6 7]\n",
            " [8 9]]\n",
            "7\n",
            "[2 3]\n"
          ]
        }
      ]
    },
    {
      "cell_type": "markdown",
      "source": [
        "Задание 1.2.2"
      ],
      "metadata": {
        "id": "1iXLPhlbQqEc"
      }
    },
    {
      "cell_type": "code",
      "source": [
        "import numpy as np\n",
        "\n",
        "a = np.zeros(10)\n",
        "b = np.ones(10)\n",
        "c = np.full(10,5)\n",
        "d = np.arange(10,20)\n",
        "print(a, \"\\n\", b, \"\\n\", c, \"\\n\", d)\n"
      ],
      "metadata": {
        "id": "ZNlWnikNQuLq"
      },
      "execution_count": null,
      "outputs": []
    },
    {
      "cell_type": "markdown",
      "source": [
        "Задание 1.2.3"
      ],
      "metadata": {
        "id": "CmCIGYDTS0gV"
      }
    },
    {
      "cell_type": "code",
      "source": [
        "import numpy as np\n",
        "\n",
        "z = np.random.random((10,10))\n",
        "Zmin, Zmax, Zmean = z.min(), z.max(), z.mean()\n",
        "print(Zmin, Zmax, Zmean)"
      ],
      "metadata": {
        "id": "mFyhns5_S7eK",
        "colab": {
          "base_uri": "https://localhost:8080/"
        },
        "outputId": "324d1e21-1337-48c4-96bc-cad99e9ab882"
      },
      "execution_count": null,
      "outputs": [
        {
          "output_type": "stream",
          "name": "stdout",
          "text": [
            "0.01277791675000095 0.9950647944391594 0.4446672171999513\n"
          ]
        }
      ]
    },
    {
      "cell_type": "markdown",
      "source": [
        "Задание 1.2.4"
      ],
      "metadata": {
        "id": "bvXb4BpeTgU3"
      }
    },
    {
      "cell_type": "code",
      "source": [
        "import numpy as np\n",
        "\n",
        "A = np.arange(25).reshape(5,5)\n",
        "A[[0,1]] = A[[1,0]]\n",
        "print(A)"
      ],
      "metadata": {
        "id": "XCzoTXgKUBHB",
        "colab": {
          "base_uri": "https://localhost:8080/"
        },
        "outputId": "e663f8d9-2b91-4dcc-a16f-8fbcbe8f9998"
      },
      "execution_count": null,
      "outputs": [
        {
          "output_type": "stream",
          "name": "stdout",
          "text": [
            "[[ 5  6  7  8  9]\n",
            " [ 0  1  2  3  4]\n",
            " [10 11 12 13 14]\n",
            " [15 16 17 18 19]\n",
            " [20 21 22 23 24]]\n"
          ]
        }
      ]
    },
    {
      "cell_type": "markdown",
      "source": [
        "Задание 1.2.5"
      ],
      "metadata": {
        "id": "-mncac2UWPDr"
      }
    },
    {
      "cell_type": "code",
      "source": [
        "import numpy as np\n",
        "\n",
        "print(0*np.nan)\n",
        "print(np.nan == np.nan)\n",
        "print(np.inf > np.nan)\n",
        "print(np.nan - np.nan)\n",
        "print(0.3 == 3 * 0.1)"
      ],
      "metadata": {
        "id": "3VHUbud9WcB1"
      },
      "execution_count": null,
      "outputs": []
    },
    {
      "cell_type": "markdown",
      "source": [
        "Задание 1.2.6"
      ],
      "metadata": {
        "id": "tTYaCnPP7qW2"
      }
    },
    {
      "cell_type": "code",
      "source": [
        "import numpy as np\n",
        "\n",
        "arr = np.array([2,1,5,3,7,4,6,8])\n",
        "print(np.sort(arr))"
      ],
      "metadata": {
        "id": "BcNVeQwa7sdl"
      },
      "execution_count": null,
      "outputs": []
    },
    {
      "cell_type": "markdown",
      "source": [
        "Задание 1.3.1"
      ],
      "metadata": {
        "id": "6thQeV9d8DL0"
      }
    },
    {
      "cell_type": "code",
      "source": [
        "import numpy as np\n",
        "\n",
        "\n",
        "arr = np.empty((8,8))\n",
        "for i in range(8):\n",
        "  for j in range(8):\n",
        "    if i % 2 == 0:\n",
        "      if j % 2 == 0:\n",
        "        arr[i][j] = 1\n",
        "      else:\n",
        "        arr[i][j] = 0\n",
        "    else:\n",
        "      if j % 2 != 0:\n",
        "        arr[i][j] = 1\n",
        "      else:\n",
        "        arr[i][j] = 0\n",
        "print(arr)"
      ],
      "metadata": {
        "id": "7RZryNVh8HEC",
        "outputId": "75888d2a-63aa-4faa-e530-8507efdf5cf2",
        "colab": {
          "base_uri": "https://localhost:8080/"
        }
      },
      "execution_count": null,
      "outputs": [
        {
          "output_type": "stream",
          "name": "stdout",
          "text": [
            "[[1. 0. 1. 0. 1. 0. 1. 0.]\n",
            " [0. 1. 0. 1. 0. 1. 0. 1.]\n",
            " [1. 0. 1. 0. 1. 0. 1. 0.]\n",
            " [0. 1. 0. 1. 0. 1. 0. 1.]\n",
            " [1. 0. 1. 0. 1. 0. 1. 0.]\n",
            " [0. 1. 0. 1. 0. 1. 0. 1.]\n",
            " [1. 0. 1. 0. 1. 0. 1. 0.]\n",
            " [0. 1. 0. 1. 0. 1. 0. 1.]]\n"
          ]
        }
      ]
    },
    {
      "cell_type": "markdown",
      "source": [
        "Задание 1.3.2"
      ],
      "metadata": {
        "id": "WHxmJm-A_sD7"
      }
    },
    {
      "cell_type": "code",
      "source": [
        "import numpy as np\n",
        "\n",
        "arr = np.empty((5,5))\n",
        "for i in range(5):\n",
        "  arr[i] = np.arange(5)\n",
        "print(arr)"
      ],
      "metadata": {
        "colab": {
          "base_uri": "https://localhost:8080/"
        },
        "id": "xyc2Q_nh_0JX",
        "outputId": "42d29d61-bf86-405b-a9e2-a027a8a0823f"
      },
      "execution_count": null,
      "outputs": [
        {
          "output_type": "stream",
          "name": "stdout",
          "text": [
            "[[0. 1. 2. 3. 4.]\n",
            " [0. 1. 2. 3. 4.]\n",
            " [0. 1. 2. 3. 4.]\n",
            " [0. 1. 2. 3. 4.]\n",
            " [0. 1. 2. 3. 4.]]\n"
          ]
        }
      ]
    },
    {
      "cell_type": "markdown",
      "source": [
        "Задание 1.3.3"
      ],
      "metadata": {
        "id": "dwhUfIKIB4ew"
      }
    },
    {
      "cell_type": "code",
      "source": [
        "import numpy as np\n",
        "\n",
        "arr = np.random.sample((3,3,3))\n",
        "print(arr)\n",
        "\n",
        "\n",
        "\n"
      ],
      "metadata": {
        "id": "4Xf4exEXB7WM"
      },
      "execution_count": null,
      "outputs": []
    },
    {
      "cell_type": "markdown",
      "source": [
        "Задание 1.3.4"
      ],
      "metadata": {
        "id": "UH6iq_auDzuF"
      }
    },
    {
      "cell_type": "code",
      "source": [
        "import numpy as np\n",
        "\n",
        "arr = np.ones((3,3))\n",
        "arr[1][1] = 0\n",
        "print(arr)"
      ],
      "metadata": {
        "id": "s6TDjAN7D1pu"
      },
      "execution_count": null,
      "outputs": []
    },
    {
      "cell_type": "markdown",
      "source": [
        "Задание 1.3.5"
      ],
      "metadata": {
        "id": "KPGaoNy1EchN"
      }
    },
    {
      "cell_type": "code",
      "source": [
        "import numpy as np\n",
        "\n",
        "arr = np.arange(10)\n",
        "print(arr)\n",
        "arr = np.sort(arr)[::-1]\n",
        "print(arr)\n"
      ],
      "metadata": {
        "id": "l9gN2xw0Ei0h"
      },
      "execution_count": null,
      "outputs": []
    },
    {
      "cell_type": "markdown",
      "source": [
        "Задание 1.3.6"
      ],
      "metadata": {
        "id": "OA4Okw-8FhTM"
      }
    },
    {
      "cell_type": "code",
      "source": [
        "arr = np.arange(10).reshape((2,5))\n",
        "print(arr)\n",
        "print(np.ndim(arr))\n",
        "print(np.shape(arr))\n",
        "print(np.size(arr))"
      ],
      "metadata": {
        "id": "R6LFmccaFjg8"
      },
      "execution_count": null,
      "outputs": []
    },
    {
      "cell_type": "markdown",
      "source": [
        "Задание 2.2.1"
      ],
      "metadata": {
        "id": "XqZTrtfSIrZ3"
      }
    },
    {
      "cell_type": "code",
      "source": [
        "import pandas as pd\n",
        "import numpy as np\n",
        "\n",
        "lst = [1, 2, 3, 4, 5]\n",
        "d = {\"a\": 1, \"b\" : 2, \"c\" : 3}\n",
        "ndarr = np.array([1,2,3,4,5])\n",
        "\n",
        "s1 = pd.Series(lst)\n",
        "s2 = pd.Series(d)\n",
        "s3 = pd.Series(ndarr)\n",
        "\n",
        "print(s1)\n",
        "print(s2)\n",
        "print(s3)"
      ],
      "metadata": {
        "id": "0UGCc3gGIzOU"
      },
      "execution_count": null,
      "outputs": []
    },
    {
      "cell_type": "markdown",
      "source": [
        "Задание 2.2.2"
      ],
      "metadata": {
        "id": "-wY0X_4WK8B5"
      }
    },
    {
      "cell_type": "code",
      "source": [
        "import pandas as pd\n",
        "\n",
        "s1 = pd.Series([1,2,3,4,5], [\"a\", \"b\", \"c\", \"d\", \"e\"])\n",
        "s2 = pd.Series([5,4,3,2,1])\n",
        "\n",
        "print(s1[\"a\"])\n",
        "print(s2[0])\n",
        "print(s2[3:])"
      ],
      "metadata": {
        "id": "RiLHWkWBK-FC"
      },
      "execution_count": null,
      "outputs": []
    },
    {
      "cell_type": "markdown",
      "source": [
        "Задание 2.2.3"
      ],
      "metadata": {
        "id": "GZpl4Xo6L9wW"
      }
    },
    {
      "cell_type": "code",
      "source": [
        "import pandas as pd\n",
        "\n",
        "dataframe = pd.DataFrame()\n",
        "dataframe[\"Имя\"] = [\"Джеки Джексон\", \"Стивен Стивенсон\"]\n",
        "dataframe[\"Возраст\"] = [38,25]\n",
        "dataframe[\"Водитель\"] = [True, False]\n",
        "print(dataframe)"
      ],
      "metadata": {
        "colab": {
          "base_uri": "https://localhost:8080/"
        },
        "id": "KFkMrZxPMATQ",
        "outputId": "fe13553f-b23e-428a-ecf4-f6a52a4077a8"
      },
      "execution_count": null,
      "outputs": [
        {
          "output_type": "stream",
          "name": "stdout",
          "text": [
            "                Имя  Возраст  Водитель\n",
            "0     Джеки Джексон       38      True\n",
            "1  Стивен Стивенсон       25     False\n"
          ]
        }
      ]
    },
    {
      "cell_type": "markdown",
      "source": [
        "Задание 2.2.4"
      ],
      "metadata": {
        "id": "z0BzdgwrMzIE"
      }
    },
    {
      "cell_type": "code",
      "source": [
        "import pandas as pd\n",
        "\n",
        "url = \"https://raw.githubusercontent.com/chrisalbon/simulated_datasets/master/titanic.csv\"\n",
        "dataframe = pd.read_csv(url)\n",
        "dataframe.head(5)\n"
      ],
      "metadata": {
        "id": "6bzL_5rkM7yo"
      },
      "execution_count": null,
      "outputs": []
    },
    {
      "cell_type": "markdown",
      "source": [
        "Задание 2.2.5"
      ],
      "metadata": {
        "id": "EJgRYx9kNk49"
      }
    },
    {
      "cell_type": "code",
      "source": [
        "import pandas as pd\n",
        "\n",
        "url = \"https://raw.githubusercontent.com/chrisalbon/simulated_datasets/master/titanic.csv\"\n",
        "dataframe = pd.read_csv(url)\n",
        "dataframe.head(2)\n",
        "dataframe.tail(3)\n",
        "dataframe.shape\n",
        "dataframe.describe()\n"
      ],
      "metadata": {
        "id": "daUgRksIOCXd"
      },
      "execution_count": null,
      "outputs": []
    },
    {
      "cell_type": "markdown",
      "source": [
        "Задание 2.2.6"
      ],
      "metadata": {
        "id": "FKiUcPVKfWkP"
      }
    },
    {
      "cell_type": "code",
      "source": [
        "import pandas as pd\n",
        "\n",
        "url = \"https://raw.githubusercontent.com/chrisalbon/simulated_datasets/master/titanic.csv\"\n",
        "dataframe = pd.read_csv(url)\n",
        "dataframe.iloc[1:4]"
      ],
      "metadata": {
        "id": "Lko0cKTxgsoW"
      },
      "execution_count": null,
      "outputs": []
    },
    {
      "cell_type": "markdown",
      "source": [
        "Задание 2.2.7"
      ],
      "metadata": {
        "id": "amW4jLh8g4Jd"
      }
    },
    {
      "cell_type": "code",
      "source": [
        "import pandas as pd\n",
        "\n",
        "url = \"https://raw.githubusercontent.com/chrisalbon/simulated_datasets/master/titanic.csv\"\n",
        "dataframe = pd.read_csv(url)\n",
        "dataframe[dataframe[\"PClass\"] == \"1st\"].head(2)\n"
      ],
      "metadata": {
        "id": "HeYqF-tZhAKt"
      },
      "execution_count": null,
      "outputs": []
    },
    {
      "cell_type": "markdown",
      "source": [
        "Задание 2.3.1"
      ],
      "metadata": {
        "id": "s3CjZhhahhcy"
      }
    },
    {
      "cell_type": "code",
      "source": [
        "import pandas as pd\n",
        "import math as m\n",
        "\n",
        "def Evkdlid_len(s1,s2):\n",
        "    res = 0\n",
        "    for i in range(len(s1)):\n",
        "      res += m.sqrt(s1[i]**2+s2[i]**2)\n",
        "    return res\n",
        "\n",
        "s1 = pd.Series([1,2,3,4,5])\n",
        "s2 = pd.Series([6,7,8,9,10])\n",
        "print(Evkdlid_len(s1,s2))"
      ],
      "metadata": {
        "id": "mXiw8o_Ghlgj"
      },
      "execution_count": null,
      "outputs": []
    },
    {
      "cell_type": "markdown",
      "source": [
        "Задание 2.3.2"
      ],
      "metadata": {
        "id": "iMVtY6iLoGom"
      }
    },
    {
      "cell_type": "code",
      "source": [
        "import pandas as pd\n",
        "\n",
        "dataframe = pd.read_csv(\"https://raw.githubusercontent.com/akmand/datasets/main/kobe.csv\")\n",
        "dataframe\n",
        "\n"
      ],
      "metadata": {
        "id": "FZXez-vKoI1E"
      },
      "execution_count": null,
      "outputs": []
    },
    {
      "cell_type": "markdown",
      "source": [
        "Задание 2.3.3"
      ],
      "metadata": {
        "id": "AZEG-7nBtPRZ"
      }
    },
    {
      "cell_type": "code",
      "source": [
        "import pandas as pd\n",
        "\n",
        "dataframe = pd.read_csv(\"https://raw.githubusercontent.com/akmand/datasets/main/kobe.csv\")\n",
        "\n",
        "dataframe.head(2)\n",
        "dataframe.tail(3)\n",
        "dataframe.shape\n",
        "dataframe.describe()\n",
        "\n",
        "dataframe.iloc[1:4]\n",
        "\n",
        "dataframe[dataframe[\"game\"] == 1].head(2)"
      ],
      "metadata": {
        "id": "fu-g8UICtWHR"
      },
      "execution_count": null,
      "outputs": []
    },
    {
      "cell_type": "markdown",
      "source": [
        "Задание 3.2.1"
      ],
      "metadata": {
        "id": "p7lE3kBMuTOa"
      }
    },
    {
      "cell_type": "code",
      "source": [
        "import numpy as np\n",
        "from sklearn import preprocessing\n",
        "\n",
        "feature = np.array([-500.5], [-100.1], [0], [100.1], [900.9])\n",
        "minmax_scale = preprocessing.MinMaxScaler(feature_range=(0,1))\n",
        "scaled_feature = minmax_scale.fit_transform(feature)\n",
        "scaled_feature"
      ],
      "metadata": {
        "id": "I_hVd5K2yKkn"
      },
      "execution_count": null,
      "outputs": []
    },
    {
      "cell_type": "markdown",
      "source": [
        "Задание 3.2.2"
      ],
      "metadata": {
        "id": "NJSOq1BXzBJw"
      }
    },
    {
      "cell_type": "code",
      "source": [
        "import numpy as np\n",
        "from sklearn import preprocessing\n",
        "\n",
        "x = np.array([[-1000.1], [-200.2], [500.5], [600.6], [9000.9]])\n",
        "scaler = preprocessing.StandardScaler()\n",
        "standardized = scaler.fit_transform(x)\n",
        "print(standardized)\n",
        "\n",
        "print(\"Среднее:\", round(standardized.mean()))\n",
        "print(\"Стандартное отклонение:\", standardized.std())"
      ],
      "metadata": {
        "id": "9HKsuS8ozDA_"
      },
      "execution_count": null,
      "outputs": []
    },
    {
      "cell_type": "markdown",
      "source": [
        "Задание 3.3.1"
      ],
      "metadata": {
        "id": "vB7K-Ruk0RYc"
      }
    },
    {
      "cell_type": "code",
      "source": [
        "import numpy as np\n",
        "from sklearn.preprocessing import MinMaxScaler\n",
        "\n",
        "scaler = MinMaxScaler()\n",
        "dfTest = pd.DataFrame({'A':[14.00,90.20,90.95,96.27,91.21],\n",
        "                  'B':[103.02,107.26,110.35,114.23,114.68],\n",
        "                  'C':['big','small','big','small','small']})\n",
        "\n",
        "dfTest[[\"A\", \"B\"]] = scaler.fit_transform(dfTest[[\"A\", \"B\"]])\n",
        "dfTest"
      ],
      "metadata": {
        "id": "bqeNG7gx0YFc"
      },
      "execution_count": null,
      "outputs": []
    },
    {
      "cell_type": "markdown",
      "source": [
        "Задание 3.3.2"
      ],
      "metadata": {
        "id": "Xi35MNNc1hH0"
      }
    },
    {
      "cell_type": "code",
      "source": [
        "import pandas as pd\n",
        "from sklearn.preprocessing import MinMaxScaler\n",
        "from sklearn.preprocessing import StandardScaler\n",
        "\n",
        "dataframe = pd.read_csv(\"https://raw.githubusercontent.com/akmand/datasets/master/iris.csv\")\n",
        "scalerX = MinMaxScaler()\n",
        "scalerZ = StandardScaler()\n",
        "dataframe[[\"sepal_length_cm\"]] = scalerZ.fit_transform(dataframe[[\"sepal_length_cm\"]])\n",
        "dataframe\n",
        "dataframe[[\"petal_width_cm\"]] = scalerX.fit_transform(dataframe[[\"petal_width_cm\"]])\n",
        "dataframe"
      ],
      "metadata": {
        "id": "71K01xec1r4V"
      },
      "execution_count": null,
      "outputs": []
    }
  ]
}